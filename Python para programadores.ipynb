{
 "cells": [
  {
   "cell_type": "markdown",
   "metadata": {},
   "source": [
    "<a href=\"https://www.python.org/\"><img src=\"./Imagenes/python-logo.png\" alt=\"Python Logo\" style=\"width: 200px; display:inline;\"/></a>\n",
    "\n",
    "Python es un lenguaje de programación:\n",
    "- De [Alto nivel](https://en.wikipedia.org/wiki/High-level_programming_language), es decir, lidiamos con abstracciones y no nos preocupamos de los detalles internos de las computadoras, tal como utilizar direcciones de memoria y registros.\n",
    "- [Multipropósito](https://en.wikipedia.org/wiki/General-purpose_programming_language), pues es utilizado para construir: websites, programas de escritorio, videojuegos, análisis de datos, etc.\n",
    "- <a href=\"https://en.wikipedia.org/wiki/Interpreter_(computing)\">Interpretado</a>, ya que Python incluye algo llamado *intérprete*, lo que va traduciendo el texto escrito por el usuario en instrucciones que la computadora comprende a medida que lo va leyendo.\n",
    "- [Dinámico](https://en.wikipedia.org/wiki/Dynamic_programming_language)\n",
    "- [Multiparadigma](https://en.wikipedia.org/wiki/Programming_paradigm)\n",
    "    - [Imperativo](https://en.wikipedia.org/wiki/Imperative_programming)\n",
    "    - [Orientado a objetos](https://en.wikipedia.org/wiki/Object-oriented_programming)\n",
    "    - [Procedural](https://en.wikipedia.org/wiki/Procedural_programming)\n",
    "    - [Funcional](https://en.wikipedia.org/wiki/Functional_programming)\n",
    "    "
   ]
  },
  {
   "cell_type": "markdown",
   "metadata": {},
   "source": [
    "<a href=\"https://www.continuum.io/\"><img src=\"./Imagenes/anaconda-logo.svg\" alt=\"Anaconda Logo\" style=\"width: 200px; display:inline;\"/></a>\n",
    "\n",
    "Plataforma de data science. Incluye:\n",
    "\n",
    "- Lenguaje de programación Python\n",
    "- Entorno de programación tradicional Spyder\n",
    "- Entorno de programación multipropósito Jupyter Notebook\n",
    "- Librerías de data science ([sklearn][1], [numpy][2], [pandas][3], [nltk][4], [matplotlib][5], [etc][6].)\n",
    "\n",
    "[1]:http://scikit-learn.org/\n",
    "[2]:http://www.numpy.org/\n",
    "[3]:http://pandas.pydata.org/\n",
    "[4]:http://www.nltk.org/\n",
    "[5]:http://matplotlib.org/\n",
    "[6]:https://docs.continuum.io/anaconda/pkg-docs"
   ]
  },
  {
   "cell_type": "markdown",
   "metadata": {},
   "source": [
    "<img src=\"./Imagenes/spyder-logo.png\" alt=\"Spyder Logo\" style=\"height: 100px;\"/>\n",
    "\n",
    "![Spyder](./Imagenes/spyder.png)"
   ]
  },
  {
   "cell_type": "markdown",
   "metadata": {},
   "source": [
    "# Particularidades de Python\n",
    "\n",
    "Python tiene ciertas características que lo definen, y lo diferencian de otros lenguajes."
   ]
  },
  {
   "cell_type": "markdown",
   "metadata": {},
   "source": [
    "## Indentación para bloques de código\n",
    "\n",
    "En python, las estructuras de control no están delimitadas por caracteres como los tradicionales corchetes:\n",
    "\n",
    "```c\n",
    "if (2 + 3 == 5) {\n",
    "    x = 5 + 3;\n",
    "    y = 2 + 3;\n",
    "} else {\n",
    "    x = 5 - 3;\n",
    "    y = 2 - 3;\n",
    "}\n",
    "```\n",
    "\n",
    "En Python **los caracteres de espacio importan**. En lugar de los corchetes, Python usa una *indentación* o *sangría*, por defecto de 4 espacios, para denotar un bloque de código subordinado a una estructura de control:"
   ]
  },
  {
   "cell_type": "code",
   "execution_count": 1,
   "metadata": {
    "collapsed": false
   },
   "outputs": [
    {
     "name": "stdout",
     "output_type": "stream",
     "text": [
      "8\n",
      "Verdadero!\n"
     ]
    }
   ],
   "source": [
    "if 2 + 3 == 5:\n",
    "    x = 5 + 3\n",
    "    mensaje = \"Verdadero!\"\n",
    "else:\n",
    "    x = 5 - 3\n",
    "    mensaje = \"Falso!\"\n",
    "    \n",
    "print(x)\n",
    "print(mensaje)"
   ]
  },
  {
   "cell_type": "markdown",
   "metadata": {},
   "source": [
    "De esta manera, Python estandariza el aspecto del código desde la definición del lenguaje.\n",
    "\n",
    "**Nota:**\n",
    " - Como se puede observar en el código anterior, en Python, las estructuras de bloque no requieren paréntesis, y se delimitan por el caracter **de dos puntos \"`:`\"**\n",
    " - No es necesario el caracter **punto y coma \"`;`\"** al final de cada expresión si es la única en la linea. Pero puede ser usada para colocar múltiples en una sola línea.\n",
    " ```python\n",
    " x = 1 + 1; print(x);\n",
    " ```"
   ]
  },
  {
   "cell_type": "markdown",
   "metadata": {},
   "source": [
    "## Palabras Reservadas\n",
    "\n",
    "Adicionalmente Python cuenta con un conjunto de palabras, llamadas **palabras clave** o **reservadas** que tienen un significado especial dentro del lenguaje, las cuales no pueden ser utilizadas como nombre de variables:\n",
    "\n",
    "<pre>False      class      finally    is         return\n",
    "None       continue   for        lambda     try\n",
    "True       def        from       nonlocal   while\n",
    "and        del        global     not        with\n",
    "as         elif       if         or         yield\n",
    "assert     else       import     pass\n",
    "break      except     in         raise</pre>"
   ]
  },
  {
   "cell_type": "markdown",
   "metadata": {},
   "source": [
    "# Tipos de dato\n",
    "\n",
    "Python maneja varios tipos de dato predefinidos. Mencionaremos algunos tipos de dato comúnmente utilizados:\n",
    "\n",
    "## Booleanos\n",
    "Tipos de datos que expresan valor de verdad."
   ]
  },
  {
   "cell_type": "code",
   "execution_count": 2,
   "metadata": {
    "collapsed": false
   },
   "outputs": [
    {
     "data": {
      "text/plain": [
       "bool"
      ]
     },
     "execution_count": 2,
     "metadata": {},
     "output_type": "execute_result"
    }
   ],
   "source": [
    "type(True)"
   ]
  },
  {
   "cell_type": "markdown",
   "metadata": {},
   "source": [
    "Los operadores para variables booleanas son sólo 3\n",
    "\n",
    "<table border=\"1\" class=\"docutils\">\n",
    "<colgroup>\n",
    "<col width=\"25%\">\n",
    "<col width=\"62%\">\n",
    "</colgroup>\n",
    "<thead valign=\"bottom\">\n",
    "<tr class=\"row-odd\"><th class=\"head\">Operation</th>\n",
    "<th class=\"head\">Result</th>\n",
    "\n",
    "</tr>\n",
    "</thead>\n",
    "<tbody valign=\"top\">\n",
    "<tr class=\"row-even\"><td><code class=\"docutils literal\"><span class=\"pre\">x</span> <span class=\"pre\">or</span> <span class=\"pre\">y</span></code></td>\n",
    "<td>si <em>x</em> es falso, entonces <em>y</em>, en caso contrario <em>x</em></td>\n",
    "\n",
    "</tr>\n",
    "<tr class=\"row-odd\"><td><code class=\"docutils literal\"><span class=\"pre\">x</span> <span class=\"pre\">and</span> <span class=\"pre\">y</span></code></td>\n",
    "<td>si <em>x</em> es falso, entonces <em>x</em>, en caso contrario <em>y</em></td>\n",
    "\n",
    "</tr>\n",
    "<tr class=\"row-even\"><td><code class=\"docutils literal\"><span class=\"pre\">not</span> <span class=\"pre\">x</span></code></td>\n",
    "<td>si <em>x</em> es falso, entonces <code class=\"docutils literal\"><span class=\"pre\">True</span></code>,\n",
    "en caso contrario <code class=\"docutils literal\"><span class=\"pre\">False</span></code></td>\n",
    "\n",
    "</tr>\n",
    "</tbody>\n",
    "</table>\n",
    "\n",
    "Fuente: [Python docs](https://docs.python.org/3.5/library/stdtypes.html)."
   ]
  },
  {
   "cell_type": "markdown",
   "metadata": {},
   "source": [
    "## Numéricos"
   ]
  },
  {
   "cell_type": "code",
   "execution_count": 3,
   "metadata": {
    "collapsed": false
   },
   "outputs": [
    {
     "data": {
      "text/plain": [
       "int"
      ]
     },
     "execution_count": 3,
     "metadata": {},
     "output_type": "execute_result"
    }
   ],
   "source": [
    "type(5)"
   ]
  },
  {
   "cell_type": "code",
   "execution_count": 4,
   "metadata": {
    "collapsed": false
   },
   "outputs": [
    {
     "data": {
      "text/plain": [
       "float"
      ]
     },
     "execution_count": 4,
     "metadata": {},
     "output_type": "execute_result"
    }
   ],
   "source": [
    "type(3.1416)"
   ]
  },
  {
   "cell_type": "markdown",
   "metadata": {
    "collapsed": false
   },
   "source": [
    "La siguiente tabla muestra las operaciones posibles entre variables numéricas:\n",
    "\n",
    "<table border=\"1\" class=\"docutils\">\n",
    "<colgroup>\n",
    "<col width=\"33%\">\n",
    "<col width=\"67%\">\n",
    "</colgroup>\n",
    "<thead valign=\"bottom\">\n",
    "<tr class=\"row-odd\"><th class=\"head\">Operación</th>\n",
    "<th class=\"head\">Resultado</th>\n",
    "</tr>\n",
    "</thead>\n",
    "<tbody valign=\"top\">\n",
    "<tr class=\"row-even\"><td><code class=\"docutils literal\"><span class=\"pre\">x</span> <span class=\"pre\">+</span> <span class=\"pre\">y</span></code></td>\n",
    "<td>suma de <em>x</em> e <em>y</em></td>\n",
    "\n",
    "</tr>\n",
    "<tr class=\"row-odd\"><td><code class=\"docutils literal\"><span class=\"pre\">x</span> <span class=\"pre\">-</span> <span class=\"pre\">y</span></code></td>\n",
    "<td>diferencia de <em>x</em> e <em>y</em></td>\n",
    "\n",
    "</tr>\n",
    "<tr class=\"row-even\"><td><code class=\"docutils literal\"><span class=\"pre\">x</span> <span class=\"pre\">*</span> <span class=\"pre\">y</span></code></td>\n",
    "<td>producto de <em>x</em> e <em>y</em></td>\n",
    "\n",
    "</tr>\n",
    "<tr class=\"row-odd\"><td><code class=\"docutils literal\"><span class=\"pre\">x</span> <span class=\"pre\">/</span> <span class=\"pre\">y</span></code></td>\n",
    "<td>cociente de <em>x</em> e <em>y</em></td>\n",
    "\n",
    "</tr>\n",
    "<tr class=\"row-even\"><td><code class=\"docutils literal\"><span class=\"pre\">x</span> <span class=\"pre\">//</span> <span class=\"pre\">y</span></code></td>\n",
    "<td>cociente of <em>x</em> e <em>y</em> con redondeo hacia abajo</td>\n",
    "\n",
    "</tr>\n",
    "<tr class=\"row-odd\"><td><code class=\"docutils literal\"><span class=\"pre\">x</span> <span class=\"pre\">%</span> <span class=\"pre\">y</span></code></td>\n",
    "<td>resto de <code class=\"docutils literal\"><span class=\"pre\">x</span> <span class=\"pre\">/</span> <span class=\"pre\">y</span></code></td>\n",
    "\n",
    "</tr>\n",
    "<tr class=\"row-even\"><td><code class=\"docutils literal\"><span class=\"pre\">-x</span></code></td>\n",
    "<td>cambio de signo de <em>x</em></td>\n",
    "\n",
    "</tr>\n",
    "<tr class=\"row-odd\"><td><code class=\"docutils literal\"><span class=\"pre\">+x</span></code></td>\n",
    "<td><em>x</em> sin modificación</td>\n",
    "\n",
    "</tr>\n",
    "<tr class=\"row-even\"><td><code class=\"docutils literal\"><span class=\"pre\">abs(x)</span></code></td>\n",
    "<td>valor absoluto o magnitud de <em>x</em></td>\n",
    "\n",
    "</tr>\n",
    "<tr class=\"row-odd\"><td><code class=\"docutils literal\"><span class=\"pre\">int(x)</span></code></td>\n",
    "<td><em>x</em> covnertido a entero (integer)</td>\n",
    "\n",
    "</tr>\n",
    "<tr class=\"row-even\"><td><code class=\"docutils literal\"><span class=\"pre\">long(x)</span></code></td>\n",
    "<td><em>x</em> convertido a entero largo (long integer)</td>\n",
    "\n",
    "</tr>\n",
    "<tr class=\"row-odd\"><td><code class=\"docutils literal\"><span class=\"pre\">float(x)</span></code></td>\n",
    "<td><em>x</em> convertido a punto flotante (floating point)</td>\n",
    "\n",
    "</tr>\n",
    "<tr class=\"row-even\"><td><code class=\"docutils literal\"><span class=\"pre\">complex(re,im)</span></code></td>\n",
    "<td>un número complejo con parte real\n",
    "<em>re</em>, parte imaginaria <em>im</em>.\n",
    "<em>im</em> es por defecto cero.</td>\n",
    "\n",
    "</tr>\n",
    "<tr class=\"row-odd\"><td><code class=\"docutils literal\"><span class=\"pre\">c.conjugate()</span></code></td>\n",
    "<td>la conjugación del número complejo <em>c</em>.</td>\n",
    "\n",
    "</tr>\n",
    "<tr class=\"row-even\"><td><code class=\"docutils literal\"><span class=\"pre\">divmod(x,</span> <span class=\"pre\">y)</span></code></td>\n",
    "<td>el par <code class=\"docutils literal\"><span class=\"pre\">(x</span> <span class=\"pre\">//</span> <span class=\"pre\">y,</span> <span class=\"pre\">x</span> <span class=\"pre\">%</span> <span class=\"pre\">y)</span></code></td>\n",
    "\n",
    "</tr>\n",
    "<tr class=\"row-odd\"><td><code class=\"docutils literal\"><span class=\"pre\">pow(x,</span> <span class=\"pre\">y)</span></code></td>\n",
    "<td><em>x</em> elevado a la <em>y</em></td>\n",
    "\n",
    "</tr>\n",
    "<tr class=\"row-even\"><td><code class=\"docutils literal\"><span class=\"pre\">x</span> <span class=\"pre\">**</span> <span class=\"pre\">y</span></code></td>\n",
    "<td><em>x</em> elevado a la <em>y</em></td>\n",
    "\n",
    "</tr>\n",
    "</tbody>\n",
    "</table>\n",
    "\n",
    "Fuente: [Python docs](https://docs.python.org/3.5/library/stdtypes.html)."
   ]
  },
  {
   "cell_type": "markdown",
   "metadata": {},
   "source": [
    "## Secuencias\n",
    "\n",
    "Python maneja distintos dipos de secuencias: listas, tuplas y rangos. Cada una tiene sus características, sin embargo la gran mayoría de las siguientes operaciones puede ser utilizada con ellas.\n",
    "\n",
    "<table class=\"docutils\" id=\"index-20\">\n",
    "<colgroup>\n",
    "<col width=\"38%\">\n",
    "<col width=\"62%\">\n",
    "</colgroup>\n",
    "<thead valign=\"bottom\">\n",
    "<tr class=\"row-odd\"><th class=\"head\">Operación</th>\n",
    "<th class=\"head\">Resultado</th>\n",
    "\n",
    "</tr>\n",
    "</thead>\n",
    "<tbody valign=\"top\">\n",
    "<tr class=\"row-even\"><td><code class=\"docutils literal\"><span class=\"pre\">x</span> <span class=\"pre\">in</span> <span class=\"pre\">s</span></code></td>\n",
    "<td><code class=\"docutils literal\"><span class=\"pre\">True</span></code> si un elemento de <em>s</em> es\n",
    "igual a <em>x</em>, en caso contrario <code class=\"docutils literal\"><span class=\"pre\">False</span></code></td>\n",
    "\n",
    "</tr>\n",
    "<tr class=\"row-odd\"><td><code class=\"docutils literal\"><span class=\"pre\">x</span> <span class=\"pre\">not</span> <span class=\"pre\">in</span> <span class=\"pre\">s</span></code></td>\n",
    "<td><code class=\"docutils literal\"><span class=\"pre\">False</span></code> si un elemento de <em>s</em> es\n",
    "igual a <em>x</em>, en caso contrario <code class=\"docutils literal\"><span class=\"pre\">True</span></code></td>\n",
    "\n",
    "</tr>\n",
    "<tr class=\"row-even\"><td><code class=\"docutils literal\"><span class=\"pre\">s</span> <span class=\"pre\">+</span> <span class=\"pre\">t</span></code></td>\n",
    "<td>la concatenación de <em>s</em> y\n",
    "<em>t</em></td>\n",
    "\n",
    "</tr>\n",
    "<tr class=\"row-odd\"><td>\n",
    "<code class=\"docutils literal\"><span class=\"pre\">s</span> <span class=\"pre\">*</span> <span class=\"pre\">n</span></code> ó\n",
    "<code class=\"docutils literal\"><span class=\"pre\">n</span> <span class=\"pre\">*</span> <span class=\"pre\">s</span></code></td>\n",
    "<td>equivalente a añadir <em>s</em> a sí mismo <em>n</em> veces</td>\n",
    "\n",
    "</tr>\n",
    "<tr class=\"row-even\"><td><code class=\"docutils literal\"><span class=\"pre\">s[i]</span></code></td>\n",
    "<td><em>i</em>-ésimo elemento de <em>s</em>, con origen 0</td>\n",
    "\n",
    "</tr>\n",
    "<tr class=\"row-odd\"><td><code class=\"docutils literal\"><span class=\"pre\">s[i:j]</span></code></td>\n",
    "<td>subsecuencia (slice) de <em>s</em> desde posición <em>i</em> hasta posición <em>j</em></td>\n",
    "\n",
    "</tr>\n",
    "<tr class=\"row-even\"><td><code class=\"docutils literal\"><span class=\"pre\">s[i:j:k]</span></code></td>\n",
    "<td>subsecuencia (slice) de <em>s</em> desde posición <em>i</em> hasta posición <em>j</em> con pasos de longitud <em>k</em></td>\n",
    "\n",
    "</tr>\n",
    "<tr class=\"row-odd\"><td><code class=\"docutils literal\"><span class=\"pre\">len(s)</span></code></td>\n",
    "<td>longitud de <em>s</em></td>\n",
    "\n",
    "</tr>\n",
    "<tr class=\"row-even\"><td><code class=\"docutils literal\"><span class=\"pre\">min(s)</span></code></td>\n",
    "<td>elemento de menor valor en <em>s</em></td>\n",
    "\n",
    "</tr>\n",
    "<tr class=\"row-odd\"><td><code class=\"docutils literal\"><span class=\"pre\">max(s)</span></code></td>\n",
    "<td>elemento de mayor valor en <em>s</em></td>\n",
    "\n",
    "</tr>\n",
    "<tr class=\"row-even\"><td><code class=\"docutils literal\"><span class=\"pre\">s.index(x[,</span> <span class=\"pre\">i[,</span> <span class=\"pre\">j]])</span></code></td>\n",
    "<td>índice de la primera ocurrencia de <em>x</em> en <em>s</em> (en o después del índice \n",
    "<em>i</em> y antes del índice <em>j</em>)</td>\n",
    "\n",
    "</tr>\n",
    "<tr class=\"row-odd\"><td><code class=\"docutils literal\"><span class=\"pre\">s.count(x)</span></code></td>\n",
    "<td>cantidad total de ocurrencias de\n",
    "<em>x</em> en <em>s</em></td>\n",
    "\n",
    "</tr>\n",
    "</tbody>\n",
    "</table>\n",
    "\n",
    "Fuente: [Python docs](https://docs.python.org/3.5/library/stdtypes.html)."
   ]
  },
  {
   "cell_type": "markdown",
   "metadata": {},
   "source": [
    "Adicionalmente las secuencias pueden ser mutables o inmutables. Las secuencias mutables permiten las siguientes operaciones:\n",
    "\n",
    "| Operación | Resultado |\n",
    "| --- | --- |\n",
    "| `s[i] = x` | elemento i de s es reemplazado por `x ` |\n",
    "| `s[i:j] = t` | slice (subsección) de `s` desde `i` hasta `j` es reemplazada por los componentes del iterable `t` |\n",
    "| `del s[i:j]` | igual que `s[i:j] = []` |\n",
    "| `s[i:j:k] = t` | los elementos de `s[i:j:k]` son reemplazados por los de `t` |\n",
    "| `del s[i:j:k]` | remueve los elementos de `s[i:j:k]` de la lista |\n",
    "| `s.append(x)` | añade x al final de la secuencia (igual que `s[len(s):len(s)] = [x]`) |\n",
    "| `s.clear()` | remueve todos los elementos de `s` (igual que `del s[:]`) |\n",
    "| `s.copy()` | crea una copia superficial de `s` (igual que `s[:]`) |\n",
    "| `s.extend(t)` ó `s += t` | extiende `s` con los contenidos de `t` (por lo general igual que `s[len(s):len(s)] = t`) |\n",
    "| `s *= n` | actualiza `s` con sus contenidos repetidos n veces |\n",
    "| `s.insert(i, x)` | inserta `x` en `s` en la posición `i` inserts (igual que `s[i:i] = [x]`) |\n",
    "| `s.pop([i])` | obtiene y remueve el elemento en la posición `i` de `s` |\n",
    "| `s.remove(x)` | remueve el primer elemento de `s` donde `s[i] == x` |\n",
    "| `s.reverse()` | invierte los lugares de los elementos de `s` |\n",
    "\n",
    "Fuente: [Python docs](https://docs.python.org/3.5/library/stdtypes.html)."
   ]
  },
  {
   "cell_type": "markdown",
   "metadata": {},
   "source": [
    "### a) Listas (Secuencias)\n",
    "\n",
    "Las listas son la estructura de datos básica de Python. Se pueden definir de la siguiente manera:"
   ]
  },
  {
   "cell_type": "code",
   "execution_count": 5,
   "metadata": {
    "collapsed": false
   },
   "outputs": [
    {
     "name": "stdout",
     "output_type": "stream",
     "text": [
      "[]\n",
      "[]\n"
     ]
    }
   ],
   "source": [
    "lista_vacia = []\n",
    "print(lista_vacia)\n",
    "\n",
    "#O equivalentemente\n",
    "lista_vacia = list()\n",
    "print(lista_vacia)"
   ]
  },
  {
   "cell_type": "markdown",
   "metadata": {},
   "source": [
    "También pueden crearse directamente con valores adentro:"
   ]
  },
  {
   "cell_type": "code",
   "execution_count": 6,
   "metadata": {
    "collapsed": false
   },
   "outputs": [
    {
     "name": "stdout",
     "output_type": "stream",
     "text": [
      "['Lunes', 'Martes', 'Miércoles', 'Jueves', 'Viernes', 'Sábado', 'Domingo']\n"
     ]
    }
   ],
   "source": [
    "semana = [\"Lunes\", \"Martes\", \"Miércoles\", \"Jueves\", \"Viernes\", \"Sábado\", \"Domingo\"]\n",
    "print(semana)"
   ]
  },
  {
   "cell_type": "markdown",
   "metadata": {},
   "source": [
    "Las listas no están restringidas a tener elementos del mismo tipo:"
   ]
  },
  {
   "cell_type": "code",
   "execution_count": 7,
   "metadata": {
    "collapsed": false
   },
   "outputs": [
    {
     "name": "stdout",
     "output_type": "stream",
     "text": [
      "[3, 'Donald Trump', None, 3.5]\n"
     ]
    }
   ],
   "source": [
    "cosas_aleatorias = [1+2, \"Donald Trump\", None, 3.5]\n",
    "print(cosas_aleatorias)"
   ]
  },
  {
   "cell_type": "markdown",
   "metadata": {},
   "source": [
    "Para acceder a algun valor, solo hace falta indizarlo haciendo uso de la siguiente sintaxis con corchetes:"
   ]
  },
  {
   "cell_type": "code",
   "execution_count": 8,
   "metadata": {
    "collapsed": false
   },
   "outputs": [
    {
     "name": "stdout",
     "output_type": "stream",
     "text": [
      "3\n",
      "Donald Trump\n"
     ]
    }
   ],
   "source": [
    "#En Python, los índices inician en 0\n",
    "print (cosas_aleatorias[0])\n",
    "print (cosas_aleatorias[1])"
   ]
  },
  {
   "cell_type": "markdown",
   "metadata": {},
   "source": [
    "Adicionalmente se pueden seleccionar subsecciones de las listas haciendo **slicing**.\n",
    "\n",
    "Para el **slicing**, el primer índice indica el inicio de la sublista (inclusivo), el segundo indica el fin (exclusivo), y el tercer número opcional indica cada cuantos elementos coger.\n",
    "\n",
    "La selección de sublistas adicionalmente tienen reglas adicionales ilustradas a continuación:"
   ]
  },
  {
   "cell_type": "code",
   "execution_count": 9,
   "metadata": {
    "collapsed": false
   },
   "outputs": [
    {
     "name": "stdout",
     "output_type": "stream",
     "text": [
      "['Lunes', 'Martes', 'Miércoles']\n",
      "['Lunes', 'Miércoles', 'Viernes', 'Domingo']\n",
      "['Lunes', 'Martes', 'Miércoles']\n",
      "['Sábado', 'Domingo']\n",
      "['Lunes', 'Martes', 'Miércoles', 'Jueves', 'Viernes']\n",
      "['Lunes', 'Martes', 'Miércoles', 'Jueves', 'Viernes', 'Sábado', 'Domingo']\n"
     ]
    }
   ],
   "source": [
    "print (semana[0:3]) #Desde el primero hasta el tercer elemento\n",
    "print (semana[0:7:2]) #Toda la lista, pero cada dos elementos\n",
    "print (semana[:3]) #Desde el inicio de la lista hasta el tercer elemento\n",
    "print (semana[5:]) #Desde el quinto elemento hasta el final de la lista\n",
    "print (semana[:-2]) #Desde el primer elemento hasta 2 espacios antes del final de la lista\n",
    "print (semana[:]) #Toda la lista"
   ]
  },
  {
   "cell_type": "markdown",
   "metadata": {},
   "source": [
    "**Nota:** Hay que tener cuidado con un detalle. Las sublistas seleccionadas de esta manera son un reflejo de la lista original. En otras palabras, si se modifica esta sublista, se modifica la lista original."
   ]
  },
  {
   "cell_type": "code",
   "execution_count": 10,
   "metadata": {
    "collapsed": false
   },
   "outputs": [
    {
     "name": "stdout",
     "output_type": "stream",
     "text": [
      "[1, 2, 3, 3.5]\n"
     ]
    }
   ],
   "source": [
    "cosas_aleatorias[:3] = [1, 2, 3]\n",
    "print(cosas_aleatorias)"
   ]
  },
  {
   "cell_type": "markdown",
   "metadata": {},
   "source": [
    "Una forma rápida de definir una lista conteniendo una secuencia de enteros es haciendo uso de los **rangos**."
   ]
  },
  {
   "cell_type": "code",
   "execution_count": 11,
   "metadata": {
    "collapsed": false
   },
   "outputs": [
    {
     "name": "stdout",
     "output_type": "stream",
     "text": [
      "[1, 2, 3, 4, 5, 6, 7, 8, 9, 10, 11, 12, 13, 14, 15, 16, 17, 18, 19, 20, 21, 22, 23, 24, 25, 26, 27, 28, 29, 30, 31]\n"
     ]
    }
   ],
   "source": [
    "dias_en_diciembre = list(range(1, 32))\n",
    "print (dias_en_diciembre)"
   ]
  },
  {
   "cell_type": "markdown",
   "metadata": {},
   "source": [
    "Pero si las reglas son un poco más complejas, es necesario hacer uso de los llamados **list comprehensions**. Las list comprehensions son expresiones que son usadas para describir un conjunto de valores, de forma similar a como se describen los conjuntos por comprensión en matemática:\n",
    "\n",
    "$S = \\{x^2 : x > 0 \\wedge x \\le 5\\}$\n",
    "\n",
    "Lo cual, expresado por extensión, resulta: \n",
    "\n",
    "$S = \\{1, 2, 4, 8, 16\\}$"
   ]
  },
  {
   "cell_type": "markdown",
   "metadata": {},
   "source": [
    "De la misma manera podemos definir una lista haciendo uso de **list comprehensions**:"
   ]
  },
  {
   "cell_type": "code",
   "execution_count": 12,
   "metadata": {
    "collapsed": false
   },
   "outputs": [
    {
     "data": {
      "text/plain": [
       "[1, 2, 4, 8, 16]"
      ]
     },
     "execution_count": 12,
     "metadata": {},
     "output_type": "execute_result"
    }
   ],
   "source": [
    "[2**x for x in range(5)]"
   ]
  },
  {
   "cell_type": "code",
   "execution_count": 13,
   "metadata": {
    "collapsed": false
   },
   "outputs": [
    {
     "data": {
      "text/plain": [
       "[2, 4, 6, 8, 10, 12, 14, 16, 18, 20, 22, 24, 26, 28, 30]"
      ]
     },
     "execution_count": 13,
     "metadata": {},
     "output_type": "execute_result"
    }
   ],
   "source": [
    "[x for x in dias_en_diciembre if x % 2 == 0] #Días pares en diciembre"
   ]
  },
  {
   "cell_type": "markdown",
   "metadata": {},
   "source": [
    "Los **list comprehensions** tienen tres partes:\n",
    "\n",
    "1. La función\n",
    "2. El dominio\n",
    "3. La condición\n",
    "\n",
    "Expresado de la siguiente manera:\n",
    "\n",
    "```python\n",
    "[{Funcion(x)} for x in {dominio} if {condicion}]\n",
    "```\n",
    "\n",
    "Y se puede entender como \"aplica la **función** a todo elemento del **dominio** que cumpla con la **condición** y devuelve los resultados en una nueva lista\"."
   ]
  },
  {
   "cell_type": "markdown",
   "metadata": {},
   "source": [
    "### b) Tuplas (Secuencias)\n",
    "\n",
    "Las **tuplas** son muy similares a las listas, con la crucial distinción de que son **inmutables**. En otras palabras, **no se pueden modificar los valores contenidos en las tuplas**:"
   ]
  },
  {
   "cell_type": "code",
   "execution_count": 53,
   "metadata": {
    "collapsed": false
   },
   "outputs": [
    {
     "ename": "TypeError",
     "evalue": "'tuple' object does not support item assignment",
     "output_type": "error",
     "traceback": [
      "\u001b[0;31m---------------------------------------------------------------------------\u001b[0m",
      "\u001b[0;31mTypeError\u001b[0m                                 Traceback (most recent call last)",
      "\u001b[0;32m<ipython-input-53-77a183cb740b>\u001b[0m in \u001b[0;36m<module>\u001b[0;34m()\u001b[0m\n\u001b[1;32m      1\u001b[0m \u001b[0;31m#Las tuplas se crean haciendo uso de paréntesis en lugar de corchetes\u001b[0m\u001b[0;34m\u001b[0m\u001b[0;34m\u001b[0m\u001b[0m\n\u001b[1;32m      2\u001b[0m \u001b[0msemana\u001b[0m \u001b[0;34m=\u001b[0m \u001b[0;34m(\u001b[0m\u001b[0;34m\"Lunes\"\u001b[0m\u001b[0;34m,\u001b[0m \u001b[0;34m\"Martes\"\u001b[0m\u001b[0;34m,\u001b[0m \u001b[0;34m\"Miércoles\"\u001b[0m\u001b[0;34m,\u001b[0m \u001b[0;34m\"Jueves\"\u001b[0m\u001b[0;34m,\u001b[0m \u001b[0;34m\"Viernes\"\u001b[0m\u001b[0;34m,\u001b[0m \u001b[0;34m\"Sábado\"\u001b[0m\u001b[0;34m,\u001b[0m \u001b[0;34m\"Domingo\"\u001b[0m\u001b[0;34m)\u001b[0m\u001b[0;34m\u001b[0m\u001b[0m\n\u001b[0;32m----> 3\u001b[0;31m \u001b[0msemana\u001b[0m\u001b[0;34m[\u001b[0m\u001b[0;36m0\u001b[0m\u001b[0;34m]\u001b[0m \u001b[0;34m=\u001b[0m \u001b[0;34m\"Enero\"\u001b[0m \u001b[0;31m#Intentar modificar un valor de una tupla genera un error\u001b[0m\u001b[0;34m\u001b[0m\u001b[0m\n\u001b[0m",
      "\u001b[0;31mTypeError\u001b[0m: 'tuple' object does not support item assignment"
     ]
    }
   ],
   "source": [
    "#Las tuplas se crean haciendo uso de paréntesis en lugar de corchetes\n",
    "semana = (\"Lunes\", \"Martes\", \"Miércoles\", \"Jueves\", \"Viernes\", \"Sábado\", \"Domingo\")\n",
    "semana[0] = \"Enero\" #Intentar modificar un valor de una tupla genera un error"
   ]
  },
  {
   "cell_type": "markdown",
   "metadata": {},
   "source": [
    "### Cadenas de caracteres (Secuencias)\n",
    "\n",
    "Las **cadenas** de caracteres en Python son secuencias **inmutables**, y se pueden aplicar las mismas operaciones comunes a todos los tipos de dato secuencia inmutables, a la vez que no es permitido modificarlos."
   ]
  },
  {
   "cell_type": "code",
   "execution_count": 15,
   "metadata": {
    "collapsed": false
   },
   "outputs": [
    {
     "name": "stdout",
     "output_type": "stream",
     "text": [
      "veloz\n"
     ]
    },
    {
     "ename": "TypeError",
     "evalue": "'str' object does not support item assignment",
     "output_type": "error",
     "traceback": [
      "\u001b[0;31m---------------------------------------------------------------------------\u001b[0m",
      "\u001b[0;31mTypeError\u001b[0m                                 Traceback (most recent call last)",
      "\u001b[0;32m<ipython-input-15-0bf33a9cb414>\u001b[0m in \u001b[0;36m<module>\u001b[0;34m()\u001b[0m\n\u001b[1;32m      2\u001b[0m \u001b[0mprint\u001b[0m\u001b[0;34m(\u001b[0m\u001b[0mpangrama\u001b[0m\u001b[0;34m[\u001b[0m\u001b[0;36m3\u001b[0m\u001b[0;34m:\u001b[0m\u001b[0;36m8\u001b[0m\u001b[0;34m]\u001b[0m\u001b[0;34m)\u001b[0m\u001b[0;34m\u001b[0m\u001b[0m\n\u001b[1;32m      3\u001b[0m \u001b[0;34m\u001b[0m\u001b[0m\n\u001b[0;32m----> 4\u001b[0;31m \u001b[0mpangrama\u001b[0m\u001b[0;34m[\u001b[0m\u001b[0;36m3\u001b[0m\u001b[0;34m:\u001b[0m\u001b[0;36m8\u001b[0m\u001b[0;34m]\u001b[0m \u001b[0;34m=\u001b[0m \u001b[0;34m\"lento\"\u001b[0m\u001b[0;34m\u001b[0m\u001b[0m\n\u001b[0m",
      "\u001b[0;31mTypeError\u001b[0m: 'str' object does not support item assignment"
     ]
    }
   ],
   "source": [
    "pangrama = \"El veloz murciélago hindú comía feliz cardillo y kiwi. La cigüeña tocaba el saxofón detrás del palenque de paja\"\n",
    "print(pangrama[3:8])\n",
    "\n",
    "pangrama[3:8] = \"lento\""
   ]
  },
  {
   "cell_type": "markdown",
   "metadata": {},
   "source": [
    "Adicionalmente tienen muchos métodos adicionales (que pueden ver en la [referencia oficial](https://docs.python.org/3/library/stdtypes.html#string-methods)), como por ejemplo upper()"
   ]
  },
  {
   "cell_type": "code",
   "execution_count": 16,
   "metadata": {
    "collapsed": false
   },
   "outputs": [
    {
     "name": "stdout",
     "output_type": "stream",
     "text": [
      "EL VELOZ MURCIÉLAGO HINDÚ COMÍA FELIZ CARDILLO Y KIWI. LA CIGÜEÑA TOCABA EL SAXOFÓN DETRÁS DEL PALENQUE DE PAJA\n"
     ]
    }
   ],
   "source": [
    "print(pangrama.upper())"
   ]
  },
  {
   "cell_type": "markdown",
   "metadata": {},
   "source": [
    "## Sets o Conjuntos\n",
    "\n",
    "Los **sets** o **conjuntos** son colecciones de elementos sin orden particular. Los usos comunes de los **sets** es realizar operaciones de verificación de pertenencia, intersecciones, uniones y diferencias."
   ]
  },
  {
   "cell_type": "code",
   "execution_count": 17,
   "metadata": {
    "collapsed": false
   },
   "outputs": [
    {
     "name": "stdout",
     "output_type": "stream",
     "text": [
      "numeros_pares: {0, 2, 4, 6, 8, 10, 12, 14, 16, 18}\n",
      "multiplos_de_tres: {0, 3, 6, 9, 12, 15, 18} \n",
      "\n",
      "Intersección: {0, 18, 12, 6}\n",
      "Union: {0, 2, 3, 4, 6, 8, 9, 10, 12, 14, 15, 16, 18}\n",
      "Diferencia: {2, 4, 8, 10, 14, 16}\n"
     ]
    }
   ],
   "source": [
    "numeros_pares = {0, 2, 4, 6, 8, 10, 12, 14, 16, 18} #La creación de conjuntos es con llaves o con la funcion set()\n",
    "print (\"numeros_pares:\", numeros_pares)\n",
    "multiplos_de_tres = set(range(0, 20, 3)) #La función set puede recibir otros iterables o secuencias\n",
    "print (\"multiplos_de_tres:\", multiplos_de_tres, \"\\n\")\n",
    "\n",
    "print(\"Intersección:\", numeros_pares & multiplos_de_tres)\n",
    "print(\"Union:\", numeros_pares | multiplos_de_tres)\n",
    "print(\"Diferencia:\", numeros_pares - multiplos_de_tres)"
   ]
  },
  {
   "cell_type": "markdown",
   "metadata": {},
   "source": [
    "Adicionalmente, **dentro de un set no pueden existir elementos duplicados**. Transformar una lista o tupla en set remueve los duplicados, lo cual a menudo resulta muy útil."
   ]
  },
  {
   "cell_type": "code",
   "execution_count": 18,
   "metadata": {
    "collapsed": false
   },
   "outputs": [
    {
     "name": "stdout",
     "output_type": "stream",
     "text": [
      "Lista semana:  ['Lunes', 'Martes', 'Miércoles', 'Jueves', 'Viernes', 'Sábado', 'Domingo', 'Lunes', 'Martes', 'Miércoles', 'Jueves', 'Viernes', 'Sábado', 'Domingo', 'Lunes', 'Martes', 'Miércoles', 'Jueves', 'Viernes', 'Sábado', 'Domingo'] \n",
      "\n",
      "Set semana: {'Viernes', 'Jueves', 'Martes', 'Domingo', 'Miércoles', 'Lunes', 'Sábado'}\n"
     ]
    }
   ],
   "source": [
    "semana = [\"Lunes\", \"Martes\", \"Miércoles\", \"Jueves\", \"Viernes\", \"Sábado\", \"Domingo\"]\n",
    "semana *= 3\n",
    "print(\"Lista semana: \", semana, \"\\n\")\n",
    "\n",
    "semana = set(semana)\n",
    "print(\"Set semana:\", semana)"
   ]
  },
  {
   "cell_type": "markdown",
   "metadata": {},
   "source": [
    "## Diccionarios\n",
    "\n",
    "Los diccionarios son estructuras de datos que guardan colecciones de pares de elementos. Cada par es conocido como llave/valor.\n",
    "\n",
    "![Pares llave/valor](./Imagenes/dict.png)\n",
    "\n",
    "Los diccionarios pueden crearse de múltiples maneras equivalentes, cada una útil en su propio contexto:"
   ]
  },
  {
   "cell_type": "code",
   "execution_count": 19,
   "metadata": {
    "collapsed": false
   },
   "outputs": [
    {
     "data": {
      "text/plain": [
       "True"
      ]
     },
     "execution_count": 19,
     "metadata": {},
     "output_type": "execute_result"
    }
   ],
   "source": [
    "#Todas estas maneras de crear diccionarios son equivalentes, definiendo la capital de tres países\n",
    "capitales_1 = dict(Peru = 'Lima', Ecuador = 'Quito', Argentina = 'Buenos Aires')\n",
    "capitales_2 = {'Peru': 'Lima', 'Ecuador': 'Quito', 'Argentina': 'Buenos Aires'}\n",
    "capitales_3 = dict(zip(['Peru', 'Ecuador', 'Argentina'], ['Lima', 'Quito', 'Buenos Aires']))\n",
    "capitales_4 = dict([('Ecuador', 'Quito'), ('Peru', 'Lima'), ('Argentina', 'Buenos Aires')])\n",
    "capitales_5 = dict({'Argentina': 'Buenos Aires', 'Peru': 'Lima', 'Ecuador': 'Quito'})\n",
    "capitales_1 == capitales_2 == capitales_3 == capitales_4 == capitales_5"
   ]
  },
  {
   "cell_type": "markdown",
   "metadata": {},
   "source": [
    "Los valores de los diccionarios se acceden a través de su llave usando la sintaxis\n",
    "```python\n",
    "diccionario[llave]\n",
    "```"
   ]
  },
  {
   "cell_type": "code",
   "execution_count": 20,
   "metadata": {
    "collapsed": false
   },
   "outputs": [
    {
     "name": "stdout",
     "output_type": "stream",
     "text": [
      "'Peru' -> Lima\n",
      "'Ecuador' -> Quito\n",
      "'Argentina' -> Buenos Aires\n"
     ]
    }
   ],
   "source": [
    "\n",
    "print(\"'Peru' ->\", capitales_1['Peru'])\n",
    "print(\"'Ecuador' ->\", capitales_1['Ecuador'])\n",
    "print(\"'Argentina' ->\", capitales_1['Argentina'])"
   ]
  },
  {
   "cell_type": "markdown",
   "metadata": {},
   "source": [
    "Es posible recorrer un diccionario, valor por valor, pero cabe mencionar que no se garantiza ninguna clase de orden, a diferencia de las secuencias:"
   ]
  },
  {
   "cell_type": "code",
   "execution_count": 21,
   "metadata": {
    "collapsed": false
   },
   "outputs": [
    {
     "name": "stdout",
     "output_type": "stream",
     "text": [
      "Ecuador\n",
      "Peru\n",
      "Argentina\n"
     ]
    }
   ],
   "source": [
    "for capital in capitales_1: #En breve veremos que significa 'for'\n",
    "    print(capital)"
   ]
  },
  {
   "cell_type": "markdown",
   "metadata": {},
   "source": [
    "# Estructuras de control\n",
    "\n",
    "El verdadero poder de los lenguajes de programación imperativo se encuentra en la posibilidad de utilizar las llamadas **estructuras de control**, lo que nos permite escribir programas más complejos y más útiles de los que podríamos crear sin ellas.\n",
    "\n",
    "![Estructuras de Control](./Imagenes/Estructuras de Control.png)\n",
    "\n",
    "Hasta ahora sólo hemos podido escribir programas secuenciales, donde cada estructura se ejecuta una tras de otra hasta el final del programa (salvo que se encuentre un error)."
   ]
  },
  {
   "cell_type": "markdown",
   "metadata": {},
   "source": [
    "## Flujo Condicional: If-Else\n",
    "\n",
    "Mediante las palabras clave **`if`** y **`else`** podemos escribir instrucciones condicionales. Es decir, partes del programa que se ejecutarán únicamente si se cumple con cierta condición. De esta manera podemos responder a situaciones no conocidas antes de ejecutar un programa (por ejemplo: el input recibido, los valores que se lean de un archivo o base de datos, etc.)\n",
    "\n",
    "La estructura de un condicional puede ser de tres maneras:\n",
    "\n",
    "### 1. if\n",
    "\n",
    "```python\n",
    "if ({expresion condicional}):\n",
    "    {codigo a ejecutar si la condicion evalua a True}\n",
    "    {mas codigo...}\n",
    "```\n",
    "\n",
    "### 2. if-Else\n",
    "\n",
    "```python\n",
    "if ({expresion condicional}):\n",
    "    {codigo a ejecutar si la expresion condicional evalua a True}\n",
    "    {mas codigo...}\n",
    "else:\n",
    "    {codigo a ejecutar en caso contrario (si la expresion condicional evalua a False)}\n",
    "    {mas codigo...}\n",
    "```\n",
    "\n",
    "### 3. Encadenar if con if-elif\n",
    "\n",
    "La palabra reservada **`elif`** es una abreviación de **else if**, lo cual traducido significa **en caso contrario, si**, y sirve para encadenar condiciones adicionales en caso las anteriores no se hayan cumplido.\n",
    "\n",
    "```python\n",
    "if ({expresion condicional 1}):\n",
    "    {codigo a ejecutar si la expresion condicional 1 evalua a True}\n",
    "    {mas codigo...}\n",
    "elif ({expresion condicional 2}):\n",
    "    {codigo a ejecutar si la expresion condicional 1 evalua a False\n",
    "                        y la expresion condicional 2 evalua a True}\n",
    "    {mas codigo...}\n",
    "elif ({expresion condicional 3}):\n",
    "    {codigo a ejecutar si la expresion condicional 1 evalua a False\n",
    "                        y la expresion condicional 2 evalua a False\n",
    "                        y la expresion condicional 3 evalua a True}\n",
    "else:\n",
    "    {codigo a ejecutar si ninguna de las expresiones condicionales anteriores evalua a True}\n",
    "    {mas codigo...}\n",
    "```\n",
    "\n",
    "Notar el uso de indentación para delimitar el código que se ejecutará en cada caso."
   ]
  },
  {
   "cell_type": "code",
   "execution_count": 22,
   "metadata": {
    "collapsed": false
   },
   "outputs": [
    {
     "name": "stdout",
     "output_type": "stream",
     "text": [
      "Por favor ingrese un entero: 1\n",
      "El numero ingresado es positivo\n"
     ]
    }
   ],
   "source": [
    "x = int(input(\"Por favor ingrese un entero: \"))\n",
    "if x < 0:\n",
    "    print(\"El numero ingresado es negativo\")\n",
    "elif x == 0:\n",
    "    print(\"El numero ingresado es cero\")\n",
    "else:\n",
    "    print(\"El numero ingresado es positivo\")"
   ]
  },
  {
   "cell_type": "markdown",
   "metadata": {},
   "source": [
    "## Flujo Iterativo: While\n",
    "\n",
    "Adicionalmente, podemos contar con código que repita un grupo de instrucciones una cantidad de veces, dependiendo de una condición, utilizando la palabra clave **`while`**. De esta manera, al igual que con **`if`** y **`else`**, podemos crear programas que funcionen de forma distinta dependiendo de las condiciones en las que se ejecuta el programa.\n",
    "\n",
    "La sintaxis es similar a la de **`if`**.\n",
    "\n",
    "```python\n",
    "while({expresion condicional}):\n",
    "    {(a) codigo a ejecutar mientras la expresion condicional evalua a True}\n",
    "    {(b) mas codigo}\n",
    "{(c) codigo exterior}\n",
    "```\n",
    "\n",
    "El flujo del programa seguiría de la siguiente manera:\n",
    "1. Se evalúa la expresión condicional.\n",
    "    1. Si la expresión condicional evalua a **`False`**, el código interno no se ejecuta. En otras palabras, la próxima instrucción a ejecutar en el caso anterior será {(c) código exterior} y se habrá salido del bucle.\n",
    "    2. Si la expresión condicional evalúa a **`True`**, se ejecuta el código interno (a) y (b).\n",
    "2. Si se ejecutó el código interno (en el paso B.), se regresa al paso 1: evaluar la expresión condicional."
   ]
  },
  {
   "cell_type": "code",
   "execution_count": 23,
   "metadata": {
    "collapsed": false
   },
   "outputs": [
    {
     "name": "stdout",
     "output_type": "stream",
     "text": [
      "1,1,2,3,5,8,13,21,34,55,89,144,233,377,610,987,"
     ]
    }
   ],
   "source": [
    "#Fibonacci\n",
    "a, b = 0, 1\n",
    "while b < 1000:\n",
    "    print(b, end=',')\n",
    "    a, b = b, a + b"
   ]
  },
  {
   "cell_type": "markdown",
   "metadata": {},
   "source": [
    "También podemos salir de un bucle en cualquier momento utilzando la palabra reservada **`break`**. Ejecutar esta instrucción implica terminar la ejecución del bucle más cercano."
   ]
  },
  {
   "cell_type": "code",
   "execution_count": 24,
   "metadata": {
    "collapsed": false
   },
   "outputs": [
    {
     "name": "stdout",
     "output_type": "stream",
     "text": [
      "Por favor ingrese la contraseña: prueba\n",
      "Lo sentimos, la contraseña es incorrecta - inténtelo de nuevo.\n",
      "Por favor ingrese la contraseña: secret\n",
      "Gracias. Ha ingresado la contraseña correcta.\n"
     ]
    }
   ],
   "source": [
    "password = \"\"\n",
    "while True: # <- Con True como condición, el bucle se ejecutaría permanentemente\n",
    "    password = input(\"Por favor ingrese la contraseña: \")\n",
    "    if password == \"secret\":\n",
    "        print(\"Gracias. Ha ingresado la contraseña correcta.\")\n",
    "        break # <- Pero con break podemos salir del bucle\n",
    "    else:\n",
    "        print(\"Lo sentimos, la contraseña es incorrecta - inténtelo de nuevo.\")"
   ]
  },
  {
   "cell_type": "markdown",
   "metadata": {},
   "source": [
    "Asimismo podemos utilizar la palabra reservada **`continue`** para terminar temparanamente una iteración y continuar con la siguiente"
   ]
  },
  {
   "cell_type": "code",
   "execution_count": 25,
   "metadata": {
    "collapsed": false
   },
   "outputs": [
    {
     "name": "stdout",
     "output_type": "stream",
     "text": [
      "0 tareas ingresadas. Ingrese una tarea o 'exit' para terminar: Comprar pan\n",
      "1 tareas ingresadas. Ingrese una tarea o 'exit' para terminar: \n",
      "Por favor ingrese una tarea\n",
      "1 tareas ingresadas. Ingrese una tarea o 'exit' para terminar: Pagar recibo de internet\n",
      "2 tareas ingresadas. Ingrese una tarea o 'exit' para terminar: Llevar ropa a la lavandería\n",
      "3 tareas ingresadas. Ingrese una tarea o 'exit' para terminar: exit\n",
      "Su lista de tareas:\n",
      "Comprar pan\n",
      "Pagar recibo de internet\n",
      "Llevar ropa a la lavandería\n"
     ]
    }
   ],
   "source": [
    "tareas = []\n",
    "while True:\n",
    "    #Formateo de strings https://docs.python.org/3/library/string.html#format-string-syntax\n",
    "    tarea = input(\"%d tareas ingresadas. Ingrese una tarea o 'exit' para terminar: \" % len(tareas))\n",
    "    \n",
    "    if len(tarea) == 0:\n",
    "        print (\"Por favor ingrese una tarea\")\n",
    "        continue # <- Esta palabra reservada termina inmediatamente la actual iteración y continúa con la siguiente\n",
    "    \n",
    "    if tarea == \"exit\":     #\n",
    "        break               # Todo este código es ignorado durante la actual iteración si\n",
    "                            # anteriormente se ejecuta una instrucción continue\n",
    "    tareas.append(tarea)    #\n",
    "\n",
    "print(\"Su lista de tareas:\")\n",
    "print(\"\\r\\n\".join(tareas))"
   ]
  },
  {
   "cell_type": "markdown",
   "metadata": {},
   "source": [
    "[Documentación de formateo de strings](https://pyformat.info/)"
   ]
  },
  {
   "cell_type": "markdown",
   "metadata": {},
   "source": [
    "## Flujo Iterativo: For\n",
    "\n",
    "La palabra reservada **`for`** es similar a **`while`** en cuanto nos permite ejecutar código de forma iterativa. La diferencia está en que for nos permite realizar fácilmente operaciones por cada elemento de una colección iterable (**listas**, **tuplas**, **sets**, etc).\n",
    "\n",
    "La sintaxis es como sigue:\n",
    "\n",
    "```python\n",
    "for ({elemento} in {coleccion}):\n",
    "    {(a) codigo a ejecutar por cada elemento en la coleccion}\n",
    "    #Aquí se puede acceder al elemento actual bajo el nombre dado en {elemento}\n",
    "```\n",
    "\n",
    "**Nota:** Todo lo que se puede hacer con **`for`** se puede hacer con **`while`**, sin embargo, for es más apropiado para las tareas para las que se ha creado, por ser más comprensible y elegante."
   ]
  },
  {
   "cell_type": "code",
   "execution_count": 30,
   "metadata": {
    "collapsed": false
   },
   "outputs": [
    {
     "name": "stdout",
     "output_type": "stream",
     "text": [
      "1. Comprar pan\n",
      "2. Pagar recibo de internet\n",
      "3. Llevar ropa a la lavandería\n"
     ]
    }
   ],
   "source": [
    "#Añdadir número de tarea a la lista definida anteriormente\n",
    "i = 1\n",
    "for tarea in tareas:\n",
    "    print (\"%d. %s\" % (i, tarea))\n",
    "    i += 1"
   ]
  },
  {
   "cell_type": "markdown",
   "metadata": {},
   "source": [
    "El bucle anterior puede ser resumido con el uso de la función predefinida **`enumerate`**"
   ]
  },
  {
   "cell_type": "code",
   "execution_count": 32,
   "metadata": {
    "collapsed": false
   },
   "outputs": [
    {
     "name": "stdout",
     "output_type": "stream",
     "text": [
      "1. Comprar pan\n",
      "2. Pagar recibo de internet\n",
      "3. Llevar ropa a la lavandería\n"
     ]
    }
   ],
   "source": [
    "for (i, tarea) in enumerate(tareas):\n",
    "    print (\"%d. %s\" % (i+1, tarea))"
   ]
  },
  {
   "cell_type": "markdown",
   "metadata": {},
   "source": [
    "Asimismo podemos utilizar **`for`** para realizar una operación una cantidad determinada de veces haciendo uso de la función predefinida range()"
   ]
  },
  {
   "cell_type": "code",
   "execution_count": 38,
   "metadata": {
    "collapsed": false
   },
   "outputs": [
    {
     "name": "stdout",
     "output_type": "stream",
     "text": [
      "1,1,2,3,5,8,13,21,34,55,"
     ]
    }
   ],
   "source": [
    "#Diez primeros dígitos de la secuencia Fibonacci\n",
    "\n",
    "a, b = 0, 1\n",
    "for _ in range(10):\n",
    "    print(b, end=',')\n",
    "    a, b = b, a + b"
   ]
  },
  {
   "cell_type": "markdown",
   "metadata": {},
   "source": [
    "También es factible usar **`break`** y **`continue`** dentro de los bucles **`for`**."
   ]
  },
  {
   "cell_type": "code",
   "execution_count": 42,
   "metadata": {
    "collapsed": false
   },
   "outputs": [
    {
     "name": "stdout",
     "output_type": "stream",
     "text": [
      "1,1,2,3,5,8,13,21,"
     ]
    }
   ],
   "source": [
    "#Diez primeros dígitos de la secuencia Fibonacci, o hasta encontrar un múltiplo de 7\n",
    "\n",
    "a, b = 0, 1\n",
    "for _ in range(10):\n",
    "    print(b, end=',')\n",
    "    if b % 7 == 0:\n",
    "        break\n",
    "    a, b = b, a + b"
   ]
  },
  {
   "cell_type": "markdown",
   "metadata": {},
   "source": [
    "# Funciones"
   ]
  },
  {
   "cell_type": "markdown",
   "metadata": {},
   "source": [
    "Python permite definir funciones, las cuales son bloques de código reutilizable (tales como las ya utilizadas `print()`, `input()`, `list()`, `dict()`, `set()`, `range()` y `enumerate()`).\n",
    "\n",
    "En algunos lenguajes de programación las funciones están obligadas a devolver valores, pero en python pueden no hacerlo. Adicionalmente las funciones en Python no están obligadas a devolver un solo valor, sino que pueden devolver más de uno.\n",
    "\n",
    "La sintaxis básica para definir una función es como sigue:\n",
    "\n",
    "```python\n",
    "def nombre_de_funcion( {parametros} ):\n",
    "    \"\"\"Documentación del código\"\"\"\n",
    "    {Codigo ejecutable}\n",
    "    return {expresion}\n",
    "```\n",
    "\n",
    "Por ejemplo, definimos una función que devuelva el número n de la secuencia de Fibonacci."
   ]
  },
  {
   "cell_type": "code",
   "execution_count": 19,
   "metadata": {
    "collapsed": true
   },
   "outputs": [],
   "source": [
    "#Función que devuelve el elemento n de la serie Fibonacci. Tiene un solo parámetro, el número de elemento deseado.\n",
    "def fib(n):\n",
    "    \"\"\"Escribe la serie Fibonacci hasta el número n.\"\"\"\n",
    "    a, b = 0, 1\n",
    "    for _ in range(n):\n",
    "        a, b = b, a+b\n",
    "    return a"
   ]
  },
  {
   "cell_type": "markdown",
   "metadata": {},
   "source": [
    "Una vez definida la función podemos llamarla como sigue:"
   ]
  },
  {
   "cell_type": "code",
   "execution_count": 21,
   "metadata": {
    "collapsed": false
   },
   "outputs": [
    {
     "name": "stdout",
     "output_type": "stream",
     "text": [
      "Nnúmero Fibonacci #20: 6765\n"
     ]
    }
   ],
   "source": [
    "x = fib(20)\n",
    "print(\"Nnúmero Fibonacci #20:\", x)"
   ]
  },
  {
   "cell_type": "markdown",
   "metadata": {},
   "source": [
    "Es importante notar que todas las variables declaradas dentro de una función son accesibles únicamente dentro de la misma función. Por ejemplo si intentamos obtener el valor de `b`, obtendremos un error que indica que la variable no está definida:"
   ]
  },
  {
   "cell_type": "code",
   "execution_count": 33,
   "metadata": {
    "collapsed": false
   },
   "outputs": [
    {
     "ename": "NameError",
     "evalue": "name 'b' is not defined",
     "output_type": "error",
     "traceback": [
      "\u001b[0;31m---------------------------------------------------------------------------\u001b[0m",
      "\u001b[0;31mNameError\u001b[0m                                 Traceback (most recent call last)",
      "\u001b[0;32m<ipython-input-33-4851c8fca996>\u001b[0m in \u001b[0;36m<module>\u001b[0;34m()\u001b[0m\n\u001b[0;32m----> 1\u001b[0;31m \u001b[0mprint\u001b[0m\u001b[0;34m(\u001b[0m\u001b[0mb\u001b[0m\u001b[0;34m)\u001b[0m\u001b[0;34m\u001b[0m\u001b[0m\n\u001b[0m",
      "\u001b[0;31mNameError\u001b[0m: name 'b' is not defined"
     ]
    }
   ],
   "source": [
    "print(b)"
   ]
  },
  {
   "cell_type": "markdown",
   "metadata": {},
   "source": [
    "Esto nos permite mantener los contextos de declaración y llamada de la función separados, de tal forma de que no haya que preocuparse por el conflicto de nombres de variables en dichas situaciones. Esto se ilustra en el siguiente ejemplo, donde además se declara una función con más de una variable:"
   ]
  },
  {
   "cell_type": "code",
   "execution_count": 39,
   "metadata": {
    "collapsed": false
   },
   "outputs": [
    {
     "name": "stdout",
     "output_type": "stream",
     "text": [
      "Magnitud del vector [4, 3]: 5.0\n",
      "Las variables declaradas y manipuladas fuera de la función siguen teniendo sus valores originales: mag = 0\n"
     ]
    }
   ],
   "source": [
    "import math\n",
    "\n",
    "def magnitud(x, y):\n",
    "    x = x**2\n",
    "    y = y**2\n",
    "    mag = x + y #Declarando variable interna mag\n",
    "    mag = math.sqrt(mag)\n",
    "    return mag\n",
    "\n",
    "mag = 0 #Declarando variable externa mag para demostrar que es una variable completamente diferente a la interna\n",
    "print (\"Magnitud del vector [4, 3]:\", magnitud(4, 3))\n",
    "\n",
    "#Aquí podemos notar que las variables x e y son independientes de aquellas declaradas en la función\n",
    "print (\"Las variables declaradas y manipuladas fuera de la función siguen teniendo sus valores originales: mag =\", mag)"
   ]
  },
  {
   "cell_type": "markdown",
   "metadata": {},
   "source": [
    "Podemos también definir funciones con valores por defecto. De esta manera volvemos dichos parámetros opcionales, y cuando no se ingrese un valor específico durante una llamada, la función se ejecute con el valor indicado en lugar de echar un error."
   ]
  },
  {
   "cell_type": "code",
   "execution_count": 26,
   "metadata": {
    "collapsed": false
   },
   "outputs": [
    {
     "name": "stdout",
     "output_type": "stream",
     "text": [
      "Hola Kenyi!\n",
      "Buenos días Kenyi!\n"
     ]
    }
   ],
   "source": [
    "def saludar(nombre, saludo=\"Hola\"):\n",
    "    print(\"{0} {1}!\".format(saludo, nombre))\n",
    "\n",
    "saludar(\"Kenyi\") #Llamando a la función sin el parámetro saludo hace que la función se ejecute con el valor por defecto \"Hola\"\n",
    "saludar(\"Kenyi\", \"Buenos días\") #Pero si especificamos el valor, se utiliza ese en su lugar"
   ]
  },
  {
   "cell_type": "markdown",
   "metadata": {},
   "source": [
    "Cuando la función tiene más de un parámetro, es posible llamar a la función nombrando específicamente a cual parámetro va cada valor, para facilitar la lectura en caso de que hayan muchos."
   ]
  },
  {
   "cell_type": "code",
   "execution_count": 31,
   "metadata": {
    "collapsed": false
   },
   "outputs": [
    {
     "name": "stdout",
     "output_type": "stream",
     "text": [
      "15.0\n",
      "Buenos días Kenyi!\n"
     ]
    }
   ],
   "source": [
    "print( magnitud(x = 12, y = 9) )\n",
    "\n",
    "#Otro beneficio de llamar funciones de esta forma es que no es necesario llamar a los argumentos en orden\n",
    "saludar(saludo = \"Buenos días\", nombre = \"Kenyi\")"
   ]
  },
  {
   "cell_type": "code",
   "execution_count": 32,
   "metadata": {
    "collapsed": false
   },
   "outputs": [
    {
     "ename": "SyntaxError",
     "evalue": "positional argument follows keyword argument (<ipython-input-32-20e8e68ed636>, line 2)",
     "output_type": "error",
     "traceback": [
      "\u001b[0;36m  File \u001b[0;32m\"<ipython-input-32-20e8e68ed636>\"\u001b[0;36m, line \u001b[0;32m2\u001b[0m\n\u001b[0;31m    saludar(saludo = \"Buenos días\", \"Kenyi\")\u001b[0m\n\u001b[0m                                    ^\u001b[0m\n\u001b[0;31mSyntaxError\u001b[0m\u001b[0;31m:\u001b[0m positional argument follows keyword argument\n"
     ]
    }
   ],
   "source": [
    "#Pero si se especifican parámetros con nombre, todas los parámetros subsecuentes deben ser llamados con nombre también\n",
    "saludar(saludo = \"Buenos días\", \"Kenyi\")"
   ]
  },
  {
   "cell_type": "markdown",
   "metadata": {},
   "source": [
    "También podemos definir funciones con una cantidad variable de parámetros, de la misma forma que trabaja `print()`, anteponiendo un asterisco **\\*** al ***último*** nombre de variable (es importante que sea el último), el cual será tratado como tupla dentro de la función."
   ]
  },
  {
   "cell_type": "code",
   "execution_count": 28,
   "metadata": {
    "collapsed": false
   },
   "outputs": [
    {
     "name": "stdout",
     "output_type": "stream",
     "text": [
      "14\n",
      "3\n"
     ]
    }
   ],
   "source": [
    "#En este caso el parámetro sumandos contendrá todos los parámetros ingresados\n",
    "def sumatoria(*sumandos):\n",
    "    total = 0\n",
    "    #sumandos es una tupla\n",
    "    for elemento in sumandos:\n",
    "        total += elemento\n",
    "    return total\n",
    "\n",
    "print (sumatoria(3, 5, 6))\n",
    "print (sumatoria(1, 2))"
   ]
  },
  {
   "cell_type": "markdown",
   "metadata": {},
   "source": [
    "La siguiente función devuelve dos valores:"
   ]
  },
  {
   "cell_type": "code",
   "execution_count": 13,
   "metadata": {
    "collapsed": false
   },
   "outputs": [
    {
     "name": "stdout",
     "output_type": "stream",
     "text": [
      "Nnúmero Fibonacci 20: 6765\n",
      "Cuadrado: 16 - Cubo: 64\n"
     ]
    }
   ],
   "source": [
    "def cuadrado_y_cubo(n): # devuelve el cuadrado y el cubo del número ingresado\n",
    "    cuadrado = n**2\n",
    "    cubo = n**3\n",
    "    return cuadrado, cubo\n",
    "\n",
    "x, y = cuadrado_y_cubo(4)\n",
    "print(\"Cuadrado:\", x, \"- Cubo:\", y)"
   ]
  },
  {
   "cell_type": "markdown",
   "metadata": {
    "collapsed": true
   },
   "source": [
    "Podemos también definir funciones que no devuelvan un valor (**Nota**: Estrictamente hablando, las funciones sin valor de retorno especificado devuelven **`None`**)."
   ]
  },
  {
   "cell_type": "code",
   "execution_count": 14,
   "metadata": {
    "collapsed": false
   },
   "outputs": [
    {
     "name": "stdout",
     "output_type": "stream",
     "text": [
      "1 1 2 3 5 8 13 21 34 55 89 144 233 377 610 987 1597 2584 4181 6765 \n"
     ]
    }
   ],
   "source": [
    "def fib(n):    # escribir los primeros n elementos de la serie Fibonacci\n",
    "    \"\"\"Escribe la serie Fibonacci hasta el número n.\"\"\"\n",
    "    a, b = 0, 1\n",
    "    for _ in range(n):\n",
    "        a, b = b, a+b\n",
    "        print(a, end=' ')\n",
    "    print()\n",
    "\n",
    "# Ahora podemos llamar la función que acabamos de definir:\n",
    "fib(20)\n",
    "#0 1 1 2 3 5 8 13 21 34 55 89 144 233 377 610 987 1597 2584 4181"
   ]
  },
  {
   "cell_type": "markdown",
   "metadata": {},
   "source": [
    "Una última nota, si se modifica un parámetro de tipo mutable dentro de una función, se modificará tambien fuera de ella. No así con las variables de tipo inmutable:"
   ]
  },
  {
   "cell_type": "code",
   "execution_count": 48,
   "metadata": {
    "collapsed": false
   },
   "outputs": [
    {
     "name": "stdout",
     "output_type": "stream",
     "text": [
      "0\n",
      "['Hola', 'Mundo']\n"
     ]
    }
   ],
   "source": [
    "def mutabilidad(entero, lista):\n",
    "    entero += 10\n",
    "    lista.append(\"Hola\")\n",
    "    lista.append(\"Mundo\")\n",
    "\n",
    "entero = 0\n",
    "lista = []\n",
    "\n",
    "mutabilidad(entero, lista)\n",
    "\n",
    "print(entero) #Entero sigue conteniendo el valor 0, y no 10\n",
    "print(lista) #Lista ahora tiene 2 nuevos elementos, añadidos dentro de la función"
   ]
  },
  {
   "cell_type": "markdown",
   "metadata": {},
   "source": [
    "### Lambdas\n",
    "\n",
    "Adicionalmente se pueden definir funciones anónimas cortas haciendo uso de la sintaxis lambda:\n",
    "\n",
    "```python\n",
    "lambda {variables} : {expresion de retorno}\n",
    "```\n",
    "\n",
    "Cuyo equivalente declarativo sería:\n",
    "\n",
    "```python\n",
    "def funcion_anonima ( {variables} ): \n",
    "    return {expresion de retorno}\n",
    "```\n",
    "\n",
    "\n",
    "Por ejemplo, consideremos esta función que duplica el número ingresado:"
   ]
  },
  {
   "cell_type": "code",
   "execution_count": 61,
   "metadata": {
    "collapsed": false
   },
   "outputs": [
    {
     "name": "stdout",
     "output_type": "stream",
     "text": [
      "16\n",
      "100\n"
     ]
    }
   ],
   "source": [
    "#En este caso, la variable al_cuadrado contendrá una función, y podrá ser llamada posteriormente como tal\n",
    "al_cuadrado = lambda x: x**2\n",
    "\n",
    "print(al_cuadrado(4))\n",
    "print(al_cuadrado(10))"
   ]
  },
  {
   "cell_type": "markdown",
   "metadata": {},
   "source": [
    "## Map, Filter, Reduce\n",
    "\n",
    "Python nos ofrece tres funciones muy útiles para manejar secuencias de datos de forma concisa y legible: **`map()`**, **`filter()`** y **`reduce()`**. Estas funciones forman parte del paradigma de programación funcional que python contiene. Usar estas funciones puede ser complicado al principio, pero funciones de este tipo son utilizadas ampliamente en entornos de alta paralelización, especialmente en manejos de grandes cantidades de datos.\n",
    "\n",
    "### Map\n",
    "\n",
    "La función **``map()``** aplica una función a todos los elementos de una colección de datos iterables (por ejemplo **listas**, **tuplas**, **sets**, **diccionarios**), y devuelve una lista con todos los valores modificados.\n",
    "```python\n",
    "map({funcion_a_aplicar}, {coleccion_iterable})\n",
    "```\n",
    "\n",
    "Por ejemplo si deseamos volver mayúsculas todas las cadenas de caracteres en una lista, podríamos utilizar un bucle **`for`**:"
   ]
  },
  {
   "cell_type": "code",
   "execution_count": 56,
   "metadata": {
    "collapsed": false
   },
   "outputs": [
    {
     "name": "stdout",
     "output_type": "stream",
     "text": [
      "['LUNES', 'MARTES', 'MIÉRCOLES', 'JUEVES', 'VIERNES', 'SÁBADO', 'DOMINGO']\n"
     ]
    }
   ],
   "source": [
    "semana_mayusculas = []\n",
    "for i in semana:\n",
    "    semana_mayusculas.append(i.upper())\n",
    "    \n",
    "print(semana_mayusculas)"
   ]
  },
  {
   "cell_type": "markdown",
   "metadata": {},
   "source": [
    "O podríamos utilizar map."
   ]
  },
  {
   "cell_type": "code",
   "execution_count": 63,
   "metadata": {
    "collapsed": false
   },
   "outputs": [
    {
     "name": "stdout",
     "output_type": "stream",
     "text": [
      "['LUNES', 'MARTES', 'MIÉRCOLES', 'JUEVES', 'VIERNES', 'SÁBADO', 'DOMINGO']\n"
     ]
    }
   ],
   "source": [
    "semana_mayusculas = []\n",
    "semana_mayusculas = map(str.upper, semana)\n",
    "print (list(semana_mayusculas))"
   ]
  },
  {
   "cell_type": "markdown",
   "metadata": {},
   "source": [
    "Comúnmente también veremos map utilizado con lambdas."
   ]
  },
  {
   "cell_type": "code",
   "execution_count": 65,
   "metadata": {
    "collapsed": false
   },
   "outputs": [
    {
     "name": "stdout",
     "output_type": "stream",
     "text": [
      "[1, 4, 9, 16, 25]\n"
     ]
    }
   ],
   "source": [
    "enteros = [1, 2, 3, 4, 5]\n",
    "cuadrados = map(lambda x: x**2, enteros)\n",
    "print(list(cuadrados))"
   ]
  },
  {
   "cell_type": "markdown",
   "metadata": {},
   "source": [
    "### Filter\n",
    "\n",
    "La función **`filter()`** permite, como indica su nombre, filtrar elementos de una colección iterable que no cumplan con determinada condición.\n",
    "\n",
    "```python\n",
    "filter({funcion_condicional}, {coleccion_iterable})\n",
    "```\n",
    "\n",
    "La **funcion_condicional** debe ser una función que devuelva **`True`**, en caso el elemento cumpla con la condición, o **`False`**, en caso contrario.\n",
    "\n",
    "Por ejemplo, si deseamos filtrar los números positivos de una lista."
   ]
  },
  {
   "cell_type": "code",
   "execution_count": 70,
   "metadata": {
    "collapsed": false
   },
   "outputs": [
    {
     "name": "stdout",
     "output_type": "stream",
     "text": [
      "[-5, -6, -9, -2]\n"
     ]
    }
   ],
   "source": [
    "lista = [3, -5, -6, 1, 2, -9, 7, -2]\n",
    "\n",
    "lista_filtrada = filter(lambda x: x <= 0, lista) \n",
    "#La función lambda devuelve True si es que el número en cuestión es menor o igual a 0\n",
    "\n",
    "print(list(lista_filtrada))"
   ]
  },
  {
   "cell_type": "markdown",
   "metadata": {},
   "source": [
    "### Reduce\n",
    "\n",
    "La función **`reduce()`** es un poco más complicada, pero extremadamente útil. Reduce aplica una función a dos elementos de una colección iterable, y luego aplica la misma función al resultado del cálculo anterior con el siguiente elemento, y así sucesivamente hasta terminar.\n",
    "\n",
    "La sintaxis es muy similar a **``map()``** y **`filter()`**:\n",
    "\n",
    "```python\n",
    "reduce({funcion_a_aplicar(x, y)}, {coleccion_iterable})\n",
    "```\n",
    "\n",
    "Por ejemplo, la función **`reduce()`** con una función de suma y una lista de enteros:"
   ]
  },
  {
   "cell_type": "code",
   "execution_count": 73,
   "metadata": {
    "collapsed": false
   },
   "outputs": [
    {
     "name": "stdout",
     "output_type": "stream",
     "text": [
      "113\n"
     ]
    }
   ],
   "source": [
    "from functools import reduce\n",
    "lista = [47, 11, 42, 13]\n",
    "sumatoria = reduce(lambda x, y: x + y, lista)\n",
    "\n",
    "print(sumatoria)"
   ]
  },
  {
   "cell_type": "markdown",
   "metadata": {},
   "source": [
    "Internamente el proceso que está ocurriendo es como lo muestra el gráfico:\n",
    "\n",
    "![Ilustración de funcion reduce](./Imagenes/reduce.png)"
   ]
  },
  {
   "cell_type": "markdown",
   "metadata": {},
   "source": [
    "# Mayores Recursos\n",
    "\n",
    "Aún falta mucho por ver en Python, por ejemplo programación orientada a objetos, librerías estándar de python, creación de librerías, manipulación de texto y archivos, reflectividad, etc.\n",
    "\n",
    "Para referencia futura, no hay lugar con información más exhaustiva que la misma documentación de Python:\n",
    "\n",
    "https://docs.python.org/3/index.html"
   ]
  },
  {
   "cell_type": "code",
   "execution_count": null,
   "metadata": {
    "collapsed": false
   },
   "outputs": [],
   "source": [
    "#Styling del notebook\n",
    "from IPython.core.display import HTML\n",
    "def css_styling():\n",
    "    styles = open(\"./styles/custom.css\", \"r\").read()\n",
    "    return HTML(styles)\n",
    "css_styling()"
   ]
  }
 ],
 "metadata": {
  "kernelspec": {
   "display_name": "Python 3",
   "language": "python",
   "name": "python3"
  },
  "language_info": {
   "codemirror_mode": {
    "name": "ipython",
    "version": 3
   },
   "file_extension": ".py",
   "mimetype": "text/x-python",
   "name": "python",
   "nbconvert_exporter": "python",
   "pygments_lexer": "ipython3",
   "version": "3.5.2"
  }
 },
 "nbformat": 4,
 "nbformat_minor": 0
}
