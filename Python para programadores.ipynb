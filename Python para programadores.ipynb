{
 "cells": [
  {
   "cell_type": "markdown",
   "metadata": {},
   "source": [
    "<a href=\"https://www.python.org/\"><img src=\"./Imagenes/python-logo.png\" alt=\"Python Logo\" style=\"width: 200px; display:inline;\"/></a>\n",
    "\n",
    "Python es un lenguaje de programación:\n",
    "- De [Alto nivel](https://en.wikipedia.org/wiki/High-level_programming_language), es decir, lidiamos con abstracciones y no nos preocupamos de los detalles internos de las computadoras, tal como utilizar direcciones de memoria y registros.\n",
    "- [Multipropósito](https://en.wikipedia.org/wiki/General-purpose_programming_language), pues es utilizado para construir: websites, programas de escritorio, videojuegos, análisis de datos, etc.\n",
    "- <a href=\"https://en.wikipedia.org/wiki/Interpreter_(computing)\">Interpretado</a>, ya que Python incluye algo llamado *intérprete*, lo que va traduciendo el texto escrito por el usuario en instrucciones que la computadora comprende a medida que lo va leyendo.\n",
    "- [Dinámico](https://en.wikipedia.org/wiki/Dynamic_programming_language)\n",
    "- [Multiparadigma](https://en.wikipedia.org/wiki/Programming_paradigm)\n",
    "    - [Imperativo](https://en.wikipedia.org/wiki/Imperative_programming)\n",
    "    - [Orientado a objetos](https://en.wikipedia.org/wiki/Object-oriented_programming)\n",
    "    - [Procedural](https://en.wikipedia.org/wiki/Procedural_programming)\n",
    "    - [Funcional](https://en.wikipedia.org/wiki/Functional_programming)\n",
    "    "
   ]
  },
  {
   "cell_type": "markdown",
   "metadata": {},
   "source": [
    "<a href=\"https://www.continuum.io/\"><img src=\"./Imagenes/anaconda-logo.svg\" alt=\"Anaconda Logo\" style=\"width: 200px; display:inline;\"/></a>\n",
    "\n",
    "Plataforma de data science. Incluye:\n",
    "\n",
    "- Lenguaje de programación Python\n",
    "- Entorno de programación tradicional Spyder\n",
    "- Entorno de programación multipropósito Jupyter Notebook\n",
    "- Librerías de data science ([sklearn][1], [numpy][2], [pandas][3], [nltk][4], [matplotlib][5], [etc][6].)\n",
    "\n",
    "[1]:http://scikit-learn.org/\n",
    "[2]:http://www.numpy.org/\n",
    "[3]:http://pandas.pydata.org/\n",
    "[4]:http://www.nltk.org/\n",
    "[5]:http://matplotlib.org/\n",
    "[6]:https://docs.continuum.io/anaconda/pkg-docs"
   ]
  },
  {
   "cell_type": "markdown",
   "metadata": {},
   "source": [
    "<img src=\"./Imagenes/spyder-logo.png\" alt=\"Spyder Logo\" style=\"height: 100px;\"/>\n",
    "\n",
    "![Spyder](./Imagenes/spyder.png)"
   ]
  },
  {
   "cell_type": "markdown",
   "metadata": {},
   "source": [
    "# Particularidades de Python\n",
    "\n",
    "Python tiene ciertas características que lo definen, y lo diferencian de otros lenguajes."
   ]
  },
  {
   "cell_type": "markdown",
   "metadata": {},
   "source": [
    "## Indentación para bloques de código\n",
    "\n",
    "En python, las estructuras de control no están delimitadas por caracteres como los tradicionales corchetes:\n",
    "\n",
    "```c\n",
    "if (2 + 3 == 5) {\n",
    "    x = 5 + 3;\n",
    "    y = 2 + 3;\n",
    "} else {\n",
    "    x = 5 - 3;\n",
    "    y = 2 - 3;\n",
    "}\n",
    "```\n",
    "\n",
    "En Python **los caracteres de espacio importan**. En lugar de los corchetes, Python usa una *indentación* o *sangría*, por defecto de 4 espacios, para denotar un bloque de código subordinado a una estructura de control:"
   ]
  },
  {
   "cell_type": "code",
   "execution_count": 16,
   "metadata": {
    "collapsed": false
   },
   "outputs": [
    {
     "name": "stdout",
     "output_type": "stream",
     "text": [
      "8\n",
      "Verdadero!\n"
     ]
    }
   ],
   "source": [
    "if 2 + 3 == 5:\n",
    "    x = 5 + 3\n",
    "    mensaje = \"Verdadero!\"\n",
    "else:\n",
    "    x = 5 - 3\n",
    "    mensaje = \"Falso!\"\n",
    "    \n",
    "print(x)\n",
    "print(mensaje)"
   ]
  },
  {
   "cell_type": "markdown",
   "metadata": {},
   "source": [
    "De esta manera, Python estandariza el aspecto del código desde la definición del lenguaje.\n",
    "\n",
    "**Nota:**\n",
    " - Como se puede observar en el código anterior, en Python, las estructuras de bloque no requieren paréntesis, y se delimitan por el caracter **de dos puntos \"`:`\"**\n",
    " - No es necesario el caracter **punto y coma \"`;`\"** al final de cada expresión si es la única en la linea. Pero puede ser usada para colocar múltiples en una sola línea.\n",
    " ```python\n",
    " x = 1 + 1; print(x);\n",
    " ```"
   ]
  },
  {
   "cell_type": "markdown",
   "metadata": {},
   "source": [
    "# Tipos de dato\n",
    "\n",
    "Python maneja varios tipos de dato predefinidos. Mencionaremos algunos tipos de dato comúnmente utilizados:\n",
    "\n",
    "## Booleanos\n",
    "Tipos de datos que expresan valor de verdad."
   ]
  },
  {
   "cell_type": "code",
   "execution_count": 19,
   "metadata": {
    "collapsed": false
   },
   "outputs": [
    {
     "data": {
      "text/plain": [
       "bool"
      ]
     },
     "execution_count": 19,
     "metadata": {},
     "output_type": "execute_result"
    }
   ],
   "source": [
    "type(True)"
   ]
  },
  {
   "cell_type": "markdown",
   "metadata": {},
   "source": [
    "Los operadores para variables booleanas son sólo 3\n",
    "\n",
    "<table border=\"1\" class=\"docutils\" style=\"display:inline-block\">\n",
    "<colgroup>\n",
    "<col width=\"25%\">\n",
    "<col width=\"62%\">\n",
    "</colgroup>\n",
    "<thead valign=\"bottom\">\n",
    "<tr class=\"row-odd\"><th class=\"head\">Operation</th>\n",
    "<th class=\"head\">Result</th>\n",
    "\n",
    "</tr>\n",
    "</thead>\n",
    "<tbody valign=\"top\">\n",
    "<tr class=\"row-even\"><td><code class=\"docutils literal\"><span class=\"pre\">x</span> <span class=\"pre\">or</span> <span class=\"pre\">y</span></code></td>\n",
    "<td>si <em>x</em> es falso, entonces <em>y</em>, en caso contrario <em>x</em></td>\n",
    "\n",
    "</tr>\n",
    "<tr class=\"row-odd\"><td><code class=\"docutils literal\"><span class=\"pre\">x</span> <span class=\"pre\">and</span> <span class=\"pre\">y</span></code></td>\n",
    "<td>si <em>x</em> es falso, entonces <em>x</em>, en caso contrario <em>y</em></td>\n",
    "\n",
    "</tr>\n",
    "<tr class=\"row-even\"><td><code class=\"docutils literal\"><span class=\"pre\">not</span> <span class=\"pre\">x</span></code></td>\n",
    "<td>si <em>x</em> es falso, entonces <code class=\"docutils literal\"><span class=\"pre\">True</span></code>,\n",
    "en caso contrario <code class=\"docutils literal\"><span class=\"pre\">False</span></code></td>\n",
    "\n",
    "</tr>\n",
    "</tbody>\n",
    "</table>"
   ]
  },
  {
   "cell_type": "markdown",
   "metadata": {},
   "source": [
    "## Numéricos"
   ]
  },
  {
   "cell_type": "code",
   "execution_count": 49,
   "metadata": {
    "collapsed": false
   },
   "outputs": [
    {
     "data": {
      "text/plain": [
       "int"
      ]
     },
     "execution_count": 49,
     "metadata": {},
     "output_type": "execute_result"
    }
   ],
   "source": [
    "type(5)"
   ]
  },
  {
   "cell_type": "code",
   "execution_count": 20,
   "metadata": {
    "collapsed": false
   },
   "outputs": [
    {
     "data": {
      "text/plain": [
       "float"
      ]
     },
     "execution_count": 20,
     "metadata": {},
     "output_type": "execute_result"
    }
   ],
   "source": [
    "type(3.1416)"
   ]
  },
  {
   "cell_type": "markdown",
   "metadata": {
    "collapsed": false
   },
   "source": [
    "La siguiente tabla muestra las operaciones posibles entre variables numéricas:\n",
    "\n",
    "<table border=\"1\" class=\"docutils\" style=\"display:inline-block\">\n",
    "<colgroup>\n",
    "<col width=\"33%\">\n",
    "<col width=\"67%\">\n",
    "</colgroup>\n",
    "<thead valign=\"bottom\">\n",
    "<tr class=\"row-odd\"><th class=\"head\">Operation</th>\n",
    "<th class=\"head\">Result</th>\n",
    "</tr>\n",
    "</thead>\n",
    "<tbody valign=\"top\">\n",
    "<tr class=\"row-even\"><td><code class=\"docutils literal\"><span class=\"pre\">x</span> <span class=\"pre\">+</span> <span class=\"pre\">y</span></code></td>\n",
    "<td>suma de <em>x</em> e <em>y</em></td>\n",
    "\n",
    "</tr>\n",
    "<tr class=\"row-odd\"><td><code class=\"docutils literal\"><span class=\"pre\">x</span> <span class=\"pre\">-</span> <span class=\"pre\">y</span></code></td>\n",
    "<td>diferencia de <em>x</em> e <em>y</em></td>\n",
    "\n",
    "</tr>\n",
    "<tr class=\"row-even\"><td><code class=\"docutils literal\"><span class=\"pre\">x</span> <span class=\"pre\">*</span> <span class=\"pre\">y</span></code></td>\n",
    "<td>producto de <em>x</em> e <em>y</em></td>\n",
    "\n",
    "</tr>\n",
    "<tr class=\"row-odd\"><td><code class=\"docutils literal\"><span class=\"pre\">x</span> <span class=\"pre\">/</span> <span class=\"pre\">y</span></code></td>\n",
    "<td>cociente de <em>x</em> e <em>y</em></td>\n",
    "\n",
    "</tr>\n",
    "<tr class=\"row-even\"><td><code class=\"docutils literal\"><span class=\"pre\">x</span> <span class=\"pre\">//</span> <span class=\"pre\">y</span></code></td>\n",
    "<td>cociente of <em>x</em> e <em>y</em> con redondeo hacia abajo</td>\n",
    "\n",
    "</tr>\n",
    "<tr class=\"row-odd\"><td><code class=\"docutils literal\"><span class=\"pre\">x</span> <span class=\"pre\">%</span> <span class=\"pre\">y</span></code></td>\n",
    "<td>resto de <code class=\"docutils literal\"><span class=\"pre\">x</span> <span class=\"pre\">/</span> <span class=\"pre\">y</span></code></td>\n",
    "\n",
    "</tr>\n",
    "<tr class=\"row-even\"><td><code class=\"docutils literal\"><span class=\"pre\">-x</span></code></td>\n",
    "<td>cambio de signo de <em>x</em></td>\n",
    "\n",
    "</tr>\n",
    "<tr class=\"row-odd\"><td><code class=\"docutils literal\"><span class=\"pre\">+x</span></code></td>\n",
    "<td><em>x</em> sin modificación</td>\n",
    "\n",
    "</tr>\n",
    "<tr class=\"row-even\"><td><code class=\"docutils literal\"><span class=\"pre\">abs(x)</span></code></td>\n",
    "<td>valor absoluto o magnitud de <em>x</em></td>\n",
    "\n",
    "</tr>\n",
    "<tr class=\"row-odd\"><td><code class=\"docutils literal\"><span class=\"pre\">int(x)</span></code></td>\n",
    "<td><em>x</em> covnertido a entero (integer)</td>\n",
    "\n",
    "</tr>\n",
    "<tr class=\"row-even\"><td><code class=\"docutils literal\"><span class=\"pre\">long(x)</span></code></td>\n",
    "<td><em>x</em> convertido a entero largo (long integer)</td>\n",
    "\n",
    "</tr>\n",
    "<tr class=\"row-odd\"><td><code class=\"docutils literal\"><span class=\"pre\">float(x)</span></code></td>\n",
    "<td><em>x</em> convertido a punto flotante (floating point)</td>\n",
    "\n",
    "</tr>\n",
    "<tr class=\"row-even\"><td><code class=\"docutils literal\"><span class=\"pre\">complex(re,im)</span></code></td>\n",
    "<td>un número complejo con parte real\n",
    "<em>re</em>, parte imaginaria <em>im</em>.\n",
    "<em>im</em> es por defecto cero.</td>\n",
    "\n",
    "</tr>\n",
    "<tr class=\"row-odd\"><td><code class=\"docutils literal\"><span class=\"pre\">c.conjugate()</span></code></td>\n",
    "<td>la conjugación del número complejo <em>c</em>.</td>\n",
    "\n",
    "</tr>\n",
    "<tr class=\"row-even\"><td><code class=\"docutils literal\"><span class=\"pre\">divmod(x,</span> <span class=\"pre\">y)</span></code></td>\n",
    "<td>el par <code class=\"docutils literal\"><span class=\"pre\">(x</span> <span class=\"pre\">//</span> <span class=\"pre\">y,</span> <span class=\"pre\">x</span> <span class=\"pre\">%</span> <span class=\"pre\">y)</span></code></td>\n",
    "\n",
    "</tr>\n",
    "<tr class=\"row-odd\"><td><code class=\"docutils literal\"><span class=\"pre\">pow(x,</span> <span class=\"pre\">y)</span></code></td>\n",
    "<td><em>x</em> elevado a la <em>y</em></td>\n",
    "\n",
    "</tr>\n",
    "<tr class=\"row-even\"><td><code class=\"docutils literal\"><span class=\"pre\">x</span> <span class=\"pre\">**</span> <span class=\"pre\">y</span></code></td>\n",
    "<td><em>x</em> elevado a la <em>y</em></td>\n",
    "\n",
    "</tr>\n",
    "</tbody>\n",
    "</table>\n",
    "\n",
    "Fuente: [Python docs](https://docs.python.org/2/library/stdtypes.html)."
   ]
  },
  {
   "cell_type": "markdown",
   "metadata": {},
   "source": [
    "## Secuencias\n",
    "\n",
    "Python maneja distintos dipos de secuencias: listas, tuplas y rangos. Cada una tiene sus características, sin embargo la gran mayoría de las siguientes operaciones puede ser utilizada con ellas.\n",
    "\n",
    "<table border=\"1\" class=\"docutils\" id=\"index-20\" style=\"display:inline-block\">\n",
    "<colgroup>\n",
    "<col width=\"38%\">\n",
    "<col width=\"62%\">\n",
    "</colgroup>\n",
    "<thead valign=\"bottom\">\n",
    "<tr class=\"row-odd\"><th class=\"head\">Operation</th>\n",
    "<th class=\"head\">Result</th>\n",
    "\n",
    "</tr>\n",
    "</thead>\n",
    "<tbody valign=\"top\">\n",
    "<tr class=\"row-even\"><td><code class=\"docutils literal\"><span class=\"pre\">x</span> <span class=\"pre\">in</span> <span class=\"pre\">s</span></code></td>\n",
    "<td><code class=\"docutils literal\"><span class=\"pre\">True</span></code> si un elemento de <em>s</em> es\n",
    "igual a <em>x</em>, en caso contrario <code class=\"docutils literal\"><span class=\"pre\">False</span></code></td>\n",
    "\n",
    "</tr>\n",
    "<tr class=\"row-odd\"><td><code class=\"docutils literal\"><span class=\"pre\">x</span> <span class=\"pre\">not</span> <span class=\"pre\">in</span> <span class=\"pre\">s</span></code></td>\n",
    "<td><code class=\"docutils literal\"><span class=\"pre\">False</span></code> si un elemento de <em>s</em> es\n",
    "igual a <em>x</em>, en caso contrario <code class=\"docutils literal\"><span class=\"pre\">True</span></code></td>\n",
    "\n",
    "</tr>\n",
    "<tr class=\"row-even\"><td><code class=\"docutils literal\"><span class=\"pre\">s</span> <span class=\"pre\">+</span> <span class=\"pre\">t</span></code></td>\n",
    "<td>la concatenación de <em>s</em> y\n",
    "<em>t</em></td>\n",
    "\n",
    "</tr>\n",
    "<tr class=\"row-odd\"><td>\n",
    "<code class=\"docutils literal\"><span class=\"pre\">s</span> <span class=\"pre\">*</span> <span class=\"pre\">n</span></code> ó\n",
    "<code class=\"docutils literal\"><span class=\"pre\">n</span> <span class=\"pre\">*</span> <span class=\"pre\">s</span></code></td>\n",
    "<td>equivalente a añadir <em>s</em> a sí mismo <em>n</em> veces</td>\n",
    "\n",
    "</tr>\n",
    "<tr class=\"row-even\"><td><code class=\"docutils literal\"><span class=\"pre\">s[i]</span></code></td>\n",
    "<td><em>i</em>-ésimo elemento de <em>s</em>, con origen 0</td>\n",
    "\n",
    "</tr>\n",
    "<tr class=\"row-odd\"><td><code class=\"docutils literal\"><span class=\"pre\">s[i:j]</span></code></td>\n",
    "<td>subsecuencia (slice) de <em>s</em> desde posición <em>i</em> hasta posición <em>j</em></td>\n",
    "\n",
    "</tr>\n",
    "<tr class=\"row-even\"><td><code class=\"docutils literal\"><span class=\"pre\">s[i:j:k]</span></code></td>\n",
    "<td>subsecuencia (slice) de <em>s</em> desde posición <em>i</em> hasta posición <em>j</em> con pasos de longitud <em>k</em></td>\n",
    "\n",
    "</tr>\n",
    "<tr class=\"row-odd\"><td><code class=\"docutils literal\"><span class=\"pre\">len(s)</span></code></td>\n",
    "<td>longitud de <em>s</em></td>\n",
    "\n",
    "</tr>\n",
    "<tr class=\"row-even\"><td><code class=\"docutils literal\"><span class=\"pre\">min(s)</span></code></td>\n",
    "<td>elemento de menor valor en <em>s</em></td>\n",
    "\n",
    "</tr>\n",
    "<tr class=\"row-odd\"><td><code class=\"docutils literal\"><span class=\"pre\">max(s)</span></code></td>\n",
    "<td>elemento de mayor valor en <em>s</em></td>\n",
    "\n",
    "</tr>\n",
    "<tr class=\"row-even\"><td><code class=\"docutils literal\"><span class=\"pre\">s.index(x[,</span> <span class=\"pre\">i[,</span> <span class=\"pre\">j]])</span></code></td>\n",
    "<td>índice de la primera ocurrencia de <em>x</em> en <em>s</em> (en o después del índice \n",
    "<em>i</em> y antes del índice <em>j</em>)</td>\n",
    "\n",
    "</tr>\n",
    "<tr class=\"row-odd\"><td><code class=\"docutils literal\"><span class=\"pre\">s.count(x)</span></code></td>\n",
    "<td>cantidad total de ocurrencias de\n",
    "<em>x</em> en <em>s</em></td>\n",
    "\n",
    "</tr>\n",
    "</tbody>\n",
    "</table>"
   ]
  },
  {
   "cell_type": "markdown",
   "metadata": {},
   "source": [
    "### Cadenas de caracteres\n",
    "\n",
    "Las cadenas de caracteres son consideradas secuencias, y se pueden aplicar las mismas operaciones comunes a todos los tipos de dato secuencia."
   ]
  },
  {
   "cell_type": "code",
   "execution_count": 18,
   "metadata": {
    "collapsed": false
   },
   "outputs": [
    {
     "data": {
      "text/plain": [
       "str"
      ]
     },
     "execution_count": 18,
     "metadata": {},
     "output_type": "execute_result"
    }
   ],
   "source": [
    "type(\"Hola mundo!\")"
   ]
  },
  {
   "cell_type": "markdown",
   "metadata": {},
   "source": [
    "## Colecciones\n",
    "\n",
    "Python maneja "
   ]
  },
  {
   "cell_type": "code",
   "execution_count": 17,
   "metadata": {
    "collapsed": false
   },
   "outputs": [
    {
     "data": {
      "text/plain": [
       "list"
      ]
     },
     "execution_count": 17,
     "metadata": {},
     "output_type": "execute_result"
    }
   ],
   "source": [
    "type([1, 2, 3, 4])"
   ]
  },
  {
   "cell_type": "markdown",
   "metadata": {},
   "source": [
    "Finalmente tenemos la palabra clave **None** que indica la ausencia de algo."
   ]
  },
  {
   "cell_type": "markdown",
   "metadata": {},
   "source": [
    "### b) Variables y palabras clave\n",
    "A diferencia de los lenguajes declarativos, como las ecuaciones matemáticas, en los lenguajes imperativos las variables no describen valores desconocidos por hallar, sino espacios en la memoria de la computadora donde se puede almacenar algo para su posterior uso (un número, texto, una lista, etc.).\n",
    "\n",
    "Por este motivo, en programación hablamos de **asignar** valores a las variables. La **asignación** en Python se lleva a cabo con un signo de igual (**=**), lo cual más de una vez ha ocasionado confusión a las personas que aprenden a programar por primera vez.\n",
    "\n",
    "Las variables pueden tener cualquier nombre siempre que se cumpla con algunas reglas:\n",
    "- Deben constar únicamente de letras (mayúsculas y/o minúsculas), números y el caracter de guión bajo.\n",
    "- El primer caracter del nombre debe ser una letra o un guión bajo.\n",
    "- No sean iguales a las **palabras clave** o **reservadas** de Python.\n",
    "\n",
    "Por ejemplo:"
   ]
  },
  {
   "cell_type": "code",
   "execution_count": 22,
   "metadata": {
    "collapsed": true
   },
   "outputs": [],
   "source": [
    "x = 3\n",
    "capital_del_Peru = \"Lima\""
   ]
  },
  {
   "cell_type": "markdown",
   "metadata": {},
   "source": [
    "Mientras que lo siguiente no es válido:"
   ]
  },
  {
   "cell_type": "code",
   "execution_count": 23,
   "metadata": {
    "collapsed": false
   },
   "outputs": [
    {
     "ename": "SyntaxError",
     "evalue": "invalid syntax (<ipython-input-23-f15df243c23b>, line 1)",
     "output_type": "error",
     "traceback": [
      "\u001b[0;36m  File \u001b[0;32m\"<ipython-input-23-f15df243c23b>\"\u001b[0;36m, line \u001b[0;32m1\u001b[0m\n\u001b[0;31m    42kLima = \"Maratón\"\u001b[0m\n\u001b[0m          ^\u001b[0m\n\u001b[0;31mSyntaxError\u001b[0m\u001b[0;31m:\u001b[0m invalid syntax\n"
     ]
    }
   ],
   "source": [
    "42kLima = \"Maratón\""
   ]
  },
  {
   "cell_type": "code",
   "execution_count": 25,
   "metadata": {
    "collapsed": false
   },
   "outputs": [
    {
     "ename": "SyntaxError",
     "evalue": "invalid syntax (<ipython-input-25-46b59c83c100>, line 1)",
     "output_type": "error",
     "traceback": [
      "\u001b[0;36m  File \u001b[0;32m\"<ipython-input-25-46b59c83c100>\"\u001b[0;36m, line \u001b[0;32m1\u001b[0m\n\u001b[0;31m    valor_$ = 3.5\u001b[0m\n\u001b[0m          ^\u001b[0m\n\u001b[0;31mSyntaxError\u001b[0m\u001b[0;31m:\u001b[0m invalid syntax\n"
     ]
    }
   ],
   "source": [
    "valor_$ = 3.5"
   ]
  },
  {
   "cell_type": "markdown",
   "metadata": {},
   "source": [
    "Adicionalmente Python cuenta con un conjunto de palabras, llamadas **palabras clave** o **reservadas** que tienen un significado especial dentro del lenguaje, las cuales no pueden ser utilizadas como nombre de variables:\n",
    "\n",
    "<pre>False      class      finally    is         return\n",
    "None       continue   for        lambda     try\n",
    "True       def        from       nonlocal   while\n",
    "and        del        global     not        with\n",
    "as         elif       if         or         yield\n",
    "assert     else       import     pass\n",
    "break      except     in         raise</pre>"
   ]
  },
  {
   "cell_type": "markdown",
   "metadata": {},
   "source": [
    "Luego de ejecutar las instrucciónes válidas anteriores, la variable **x** ahora *contiene* el valor 3, como podemos ver en la expresión a continuación:"
   ]
  },
  {
   "cell_type": "code",
   "execution_count": 26,
   "metadata": {
    "collapsed": false
   },
   "outputs": [
    {
     "data": {
      "text/plain": [
       "3"
      ]
     },
     "execution_count": 26,
     "metadata": {},
     "output_type": "execute_result"
    }
   ],
   "source": [
    "x"
   ]
  },
  {
   "cell_type": "markdown",
   "metadata": {},
   "source": [
    "Una vez asignada una variable, puede ser utilizada en otras expresiones o sentencias, en las cuales el comportamiento de la variable será el mismo del valor que contiene."
   ]
  },
  {
   "cell_type": "code",
   "execution_count": 24,
   "metadata": {
    "collapsed": false
   },
   "outputs": [
    {
     "data": {
      "text/plain": [
       "7"
      ]
     },
     "execution_count": 24,
     "metadata": {},
     "output_type": "execute_result"
    }
   ],
   "source": [
    "#3 + 4\n",
    "x + 4"
   ]
  },
  {
   "cell_type": "markdown",
   "metadata": {},
   "source": [
    "### c) Estructuras de datos\n",
    "\n",
    "Python tiene varios tipos de estructuras de datos integradas, las cuales pueden contener múltiples valores, variables u otras estructuras de datos. Las más comunes son:\n",
    "\n",
    "- Listas\n",
    "- Tuplas\n",
    "- Sets (o Conjuntos)\n",
    "- Diccionarios\n",
    "- Cadenas de caracteres"
   ]
  },
  {
   "cell_type": "markdown",
   "metadata": {},
   "source": [
    "#### Listas\n",
    "\n",
    "Las listas son la estructura de datos básica de Python. Se pueden definir de la siguiente manera:"
   ]
  },
  {
   "cell_type": "code",
   "execution_count": 4,
   "metadata": {
    "collapsed": false
   },
   "outputs": [
    {
     "name": "stdout",
     "output_type": "stream",
     "text": [
      "[]\n",
      "[]\n"
     ]
    }
   ],
   "source": [
    "lista_vacia = []\n",
    "print(lista_vacia)\n",
    "\n",
    "#O equivalentemente\n",
    "lista_vacia = list()\n",
    "print(lista_vacia)"
   ]
  },
  {
   "cell_type": "markdown",
   "metadata": {},
   "source": [
    "También pueden crearse directamente con valores adentro:"
   ]
  },
  {
   "cell_type": "code",
   "execution_count": 6,
   "metadata": {
    "collapsed": false
   },
   "outputs": [
    {
     "name": "stdout",
     "output_type": "stream",
     "text": [
      "['Lunes', 'Martes', 'Miércoles', 'Jueves', 'Viernes', 'Sábado', 'Domingo']\n"
     ]
    }
   ],
   "source": [
    "semana = [\"Lunes\", \"Martes\", \"Miércoles\", \"Jueves\", \"Viernes\", \"Sábado\", \"Domingo\"]\n",
    "print(semana)"
   ]
  },
  {
   "cell_type": "markdown",
   "metadata": {},
   "source": [
    "Las listas no están restringidas a tener elementos del mismo tipo:"
   ]
  },
  {
   "cell_type": "code",
   "execution_count": 8,
   "metadata": {
    "collapsed": false
   },
   "outputs": [
    {
     "name": "stdout",
     "output_type": "stream",
     "text": [
      "[3, 'Donald Trump', None, 3.5]\n"
     ]
    }
   ],
   "source": [
    "cosas_aleatorias = [1+2, \"Donald Trump\", None, 3.5]\n",
    "print(cosas_aleatorias)"
   ]
  },
  {
   "cell_type": "markdown",
   "metadata": {},
   "source": [
    "Para acceder a algun valor, solo hace falta indizarlo haciendo uso de la siguiente sintaxis con corchetes:"
   ]
  },
  {
   "cell_type": "code",
   "execution_count": 12,
   "metadata": {
    "collapsed": false
   },
   "outputs": [
    {
     "name": "stdout",
     "output_type": "stream",
     "text": [
      "3\n",
      "Donald Trump\n"
     ]
    }
   ],
   "source": [
    "#En Python, los índices inician en 0\n",
    "print (cosas_aleatorias[0])\n",
    "print (cosas_aleatorias[1])"
   ]
  },
  {
   "cell_type": "markdown",
   "metadata": {},
   "source": [
    "Adicionalmente se pueden seleccionar subsecciones de las listas haciendo **slicing**.\n",
    "\n",
    "Para el **slicing**, el primer índice indica el inicio de la sublista (inclusivo), el segundo indica el fin (exclusivo), y el tercer número opcional indica cada cuantos elementos coger.\n",
    "\n",
    "La selección de sublistas adicionalmente tienen reglas adicionales ilustradas a continuación:"
   ]
  },
  {
   "cell_type": "code",
   "execution_count": 20,
   "metadata": {
    "collapsed": false
   },
   "outputs": [
    {
     "name": "stdout",
     "output_type": "stream",
     "text": [
      "['Lunes', 'Martes', 'Miércoles']\n",
      "['Lunes', 'Miércoles', 'Viernes', 'Domingo']\n",
      "['Lunes', 'Martes', 'Miércoles']\n",
      "['Sábado', 'Domingo']\n",
      "['Lunes', 'Martes', 'Miércoles', 'Jueves', 'Viernes']\n",
      "['Lunes', 'Martes', 'Miércoles', 'Jueves', 'Viernes', 'Sábado', 'Domingo']\n"
     ]
    }
   ],
   "source": [
    "print (semana[0:3]) #Desde el primero hasta el tercer elemento\n",
    "print (semana[0:7:2]) #Toda la lista, pero cada dos elementos\n",
    "print (semana[:3]) #Desde el inicio de la lista hasta el tercer elemento\n",
    "print (semana[5:]) #Desde el quinto elemento hasta el final de la lista\n",
    "print (semana[:-2]) #Desde el primer elemento hasta 2 espacios antes del final de la lista\n",
    "print (semana[:]) #Toda la lista"
   ]
  },
  {
   "cell_type": "markdown",
   "metadata": {},
   "source": [
    "**Nota:** Hay que tener cuidado con un detalle. Las sublistas seleccionadas de esta manera son un reflejo de la lista original. En otras palabras, si se modifica esta sublista, se modifica la lista original."
   ]
  },
  {
   "cell_type": "code",
   "execution_count": 21,
   "metadata": {
    "collapsed": false
   },
   "outputs": [
    {
     "name": "stdout",
     "output_type": "stream",
     "text": [
      "[1, 2, 3, 3.5]\n"
     ]
    }
   ],
   "source": [
    "cosas_aleatorias[:3] = [1, 2, 3]\n",
    "print(cosas_aleatorias)"
   ]
  },
  {
   "cell_type": "markdown",
   "metadata": {},
   "source": [
    "Una forma rápida de definir una lista conteniendo una secuencia de enteros es haciendo uso de los **rangos**."
   ]
  },
  {
   "cell_type": "code",
   "execution_count": 27,
   "metadata": {
    "collapsed": false
   },
   "outputs": [
    {
     "name": "stdout",
     "output_type": "stream",
     "text": [
      "[1, 2, 3, 4, 5, 6, 7, 8, 9, 10, 11, 12, 13, 14, 15, 16, 17, 18, 19, 20, 21, 22, 23, 24, 25, 26, 27, 28, 29, 30, 31]\n"
     ]
    }
   ],
   "source": [
    "dias_en_diciembre = list(range(1, 32))\n",
    "print (dias_en_diciembre)"
   ]
  },
  {
   "cell_type": "markdown",
   "metadata": {},
   "source": [
    "Pero si las reglas son un poco más complejas, es necesario hacer uso de los llamados **list comprehensions**. Las list comprehensions son expresiones que son usadas para describir un conjunto de valores, de forma similar a como se describen los conjuntos por comprensión en matemática:\n",
    "\n",
    "$S = \\{x^2 : x > 0 \\wedge x \\le 5\\}$\n",
    "\n",
    "Lo cual, expresado por extensión, resulta: \n",
    "\n",
    "$S = \\{1, 2, 4, 8, 16\\}$"
   ]
  },
  {
   "cell_type": "markdown",
   "metadata": {},
   "source": [
    "De la misma manera podemos definir una lista haciendo uso de **list comprehensions**:"
   ]
  },
  {
   "cell_type": "code",
   "execution_count": 31,
   "metadata": {
    "collapsed": false
   },
   "outputs": [
    {
     "data": {
      "text/plain": [
       "[1, 2, 4, 8, 16]"
      ]
     },
     "execution_count": 31,
     "metadata": {},
     "output_type": "execute_result"
    }
   ],
   "source": [
    "S = [2**x for x in range(5)]\n",
    "print (S)"
   ]
  },
  {
   "cell_type": "code",
   "execution_count": null,
   "metadata": {
    "collapsed": true
   },
   "outputs": [],
   "source": [
    "[x for x in ]"
   ]
  },
  {
   "cell_type": "markdown",
   "metadata": {},
   "source": [
    "#### Tuplas"
   ]
  },
  {
   "cell_type": "markdown",
   "metadata": {},
   "source": [
    "#### Sets o Conjuntos"
   ]
  },
  {
   "cell_type": "markdown",
   "metadata": {},
   "source": [
    "#### Diccionarios"
   ]
  },
  {
   "cell_type": "markdown",
   "metadata": {},
   "source": [
    "### d) Operadores\n",
    "\n",
    "Python cuenta con [operadores](https://www.tutorialspoint.com//python/python_basic_operators.htm) predefinidos de diferentes tipos (algunos de los cuales ya vimos en celdas anteriores).\n",
    "\n",
    "- Operadores aritméticos (+, -, \\*, /, etc.)\n",
    "- Operadores relacionales (de comparación): (==, !=, >, <, etc.)\n",
    "- Operadores lógicos: (or, and, not)\n",
    "- Operadores de pertenencia: (in, not in)\n",
    "- Operadores de identidad: (is, is not)\n",
    "- Operadores de asignación: (=, +=, -=, \\*=, /=, etc.)\n",
    "- Operadores a nivel de bits: (&, |, ^, ~, >>, etc.)"
   ]
  },
  {
   "cell_type": "markdown",
   "metadata": {},
   "source": [
    "# Estructuras de control\n",
    "\n",
    "El verdadero poder de los lenguajes de programación imperativo se encuentra en la posibilidad de utilizar las llamadas **estructuras de control**, lo que nos permite escribir programas más complejos y más útiles de los que podríamos crear sin ellas.\n",
    "\n",
    "![Estructuras de Control](./Imagenes/Estructuras de Control.png)"
   ]
  },
  {
   "cell_type": "markdown",
   "metadata": {},
   "source": [
    "## If-Then-Else"
   ]
  },
  {
   "cell_type": "markdown",
   "metadata": {},
   "source": [
    "## While"
   ]
  },
  {
   "cell_type": "markdown",
   "metadata": {},
   "source": [
    "## For"
   ]
  },
  {
   "cell_type": "markdown",
   "metadata": {},
   "source": [
    "# Funciones"
   ]
  },
  {
   "cell_type": "markdown",
   "metadata": {},
   "source": [
    "# Objetos"
   ]
  },
  {
   "cell_type": "code",
   "execution_count": null,
   "metadata": {
    "collapsed": true
   },
   "outputs": [],
   "source": []
  }
 ],
 "metadata": {
  "kernelspec": {
   "display_name": "Python 3",
   "language": "python",
   "name": "python3"
  },
  "language_info": {
   "codemirror_mode": {
    "name": "ipython",
    "version": 3
   },
   "file_extension": ".py",
   "mimetype": "text/x-python",
   "name": "python",
   "nbconvert_exporter": "python",
   "pygments_lexer": "ipython3",
   "version": "3.5.2"
  }
 },
 "nbformat": 4,
 "nbformat_minor": 0
}
