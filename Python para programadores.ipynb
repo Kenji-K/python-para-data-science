{
 "cells": [
  {
   "cell_type": "markdown",
   "metadata": {},
   "source": [
    "# ¿Qué es un lenguaje de programación?\n",
    "\n",
    "Un lenguaje de programación es un lenguaje formal de computadora, diseñado para comunicar instrucciones a una máquina. Los lenguajes de programación son utilizados para crear programas que controlan el comportamiento de las máquinas o para expresar algoritmos.<a href=\"https://en.wikipedia.org/wiki/Programming_language\"><sup>[1]</sup></a>"
   ]
  },
  {
   "cell_type": "markdown",
   "metadata": {},
   "source": [
    "<a href=\"https://www.python.org/\"><img src=\"./Imagenes/python-logo.png\" alt=\"Python Logo\" style=\"width: 200px; display:inline;\"/></a>\n",
    "\n",
    "Python es un lenguaje de programación:\n",
    "- De [Alto nivel](https://en.wikipedia.org/wiki/High-level_programming_language), es decir, lidiamos con abstracciones y no nos preocupamos de los detalles internos de las computadoras, tal como utilizar direcciones de memoria y registros.\n",
    "- [Multipropósito](https://en.wikipedia.org/wiki/General-purpose_programming_language), pues es utilizado para construir: websites, programas de escritorio, videojuegos, análisis de datos, etc.\n",
    "- <a href=\"https://en.wikipedia.org/wiki/Interpreter_(computing)\">Interpretado</a>, ya que Python incluye algo llamado *intérprete*, lo que va traduciendo el texto escrito por el usuario en instrucciones que la computadora comprende a medida que lo va leyendo.\n",
    "- [Dinámico](https://en.wikipedia.org/wiki/Dynamic_programming_language)\n",
    "- [Multiparadigma](https://en.wikipedia.org/wiki/Programming_paradigm)\n",
    "    - [Imperativo](https://en.wikipedia.org/wiki/Imperative_programming)\n",
    "    - [Orientado a objetos](https://en.wikipedia.org/wiki/Object-oriented_programming)\n",
    "    - [Procedural](https://en.wikipedia.org/wiki/Procedural_programming)\n",
    "    - [Funcional](https://en.wikipedia.org/wiki/Functional_programming)\n",
    "    "
   ]
  },
  {
   "cell_type": "markdown",
   "metadata": {},
   "source": [
    "<a href=\"https://www.continuum.io/\"><img src=\"./Imagenes/anaconda-logo.svg\" alt=\"Anaconda Logo\" style=\"width: 200px; display:inline;\"/></a>\n",
    "\n",
    "Plataforma de data science. Incluye:\n",
    "\n",
    "- Lenguaje de programación Python\n",
    "- Entorno de programación tradicional Spyder\n",
    "- Entorno de programación multipropósito Jupyter Notebook\n",
    "- Librerías de data science ([sklearn][1], [numpy][2], [pandas][3], [nltk][4], [matplotlib][5], [etc][6].)\n",
    "\n",
    "[1]:http://scikit-learn.org/\n",
    "[2]:http://www.numpy.org/\n",
    "[3]:http://pandas.pydata.org/\n",
    "[4]:http://www.nltk.org/\n",
    "[5]:http://matplotlib.org/\n",
    "[6]:https://docs.continuum.io/anaconda/pkg-docs"
   ]
  },
  {
   "cell_type": "markdown",
   "metadata": {},
   "source": [
    "<img src=\"./Imagenes/spyder-logo.png\" alt=\"Spyder Logo\" style=\"height: 100px;\"/>\n",
    "\n",
    "![Spyder](./Imagenes/spyder.png)"
   ]
  },
  {
   "cell_type": "markdown",
   "metadata": {},
   "source": [
    "# ¿Qué es un programa?\n",
    "\n",
    "Un programa es un grupo de instrucciones que especifican como llevar a cabo una determinada tarea. En el caso de los programas de computadora, estos son especificados en un lenguaje de programación específico.\n",
    "\n",
    "Dado que los lenguajes de programación son lenguajes formales, este tiene un set de reglas, que conforman su sintaxis.\n",
    "\n",
    "Por el momento, con el propósito de facilitar el aprendizaje, vamos a considerar una simplificación de la realidad. Consideraremos que el lenguaje Python tiene algunas piezas elementales:\n",
    "\n",
    "- Valores\n",
    "- Variables\n",
    "- Contenedores\n",
    "- Operadores\n",
    "\n",
    "Con estos elementos y otros más podemos crear **sentencias** (y **expresiones**). \n",
    "\n",
    "<sub>**Nota:** La realidad es un poco más complicada. En Python, los datos son en realidad abstraidos en el concepto de **objeto**. ¡Incluso las funciones son objetos! Pero de momento no es necesario profundizar.</sub>"
   ]
  },
  {
   "cell_type": "markdown",
   "metadata": {},
   "source": [
    "### a) Valores\n",
    "\n",
    "Los **valores** son una de las piezas fundamentales de los lenguajes de programación. Ejemplos de valores son el número 4 o la frase \"Hola mundo!\". Todos los valores pertenecen a un **tipo** o **clase**, y ciertas operaciones son permitidas únicamente con ciertas clases y no con otras.\n",
    "\n",
    "En cada una de las celdas posteriores, hemos escrito una **sentencia**, en la cual se ha utilizado una **función** predefinida en Python, llamada **type**. Los conceptos de **sentencia** y **función** se verán más adelante. De momento, bastará con saber que estamos solicitando al intérprete de Python que nos especifique el **tipo** de dato contenido entre los paréntesis."
   ]
  },
  {
   "cell_type": "code",
   "execution_count": 49,
   "metadata": {
    "collapsed": false
   },
   "outputs": [
    {
     "data": {
      "text/plain": [
       "int"
      ]
     },
     "execution_count": 49,
     "metadata": {},
     "output_type": "execute_result"
    }
   ],
   "source": [
    "type(5)"
   ]
  },
  {
   "cell_type": "markdown",
   "metadata": {},
   "source": [
    "El intérprete nos indica que el valor **5** es un **integer** (int) o entero, con lo cual podemos intuir que podemos realizar operaciones matemáticas."
   ]
  },
  {
   "cell_type": "code",
   "execution_count": 20,
   "metadata": {
    "collapsed": false
   },
   "outputs": [
    {
     "data": {
      "text/plain": [
       "float"
      ]
     },
     "execution_count": 20,
     "metadata": {},
     "output_type": "execute_result"
    }
   ],
   "source": [
    "type(3.1416)"
   ]
  },
  {
   "cell_type": "markdown",
   "metadata": {},
   "source": [
    "En este caso, Python nos informa que el valor es de tipo **float** o de punto flotante (nombre que viene de la implementación de bajo nivel), el cual es un tipo de dato que nos permite realizar operaciones con decimales."
   ]
  },
  {
   "cell_type": "code",
   "execution_count": 39,
   "metadata": {
    "collapsed": false
   },
   "outputs": [
    {
     "data": {
      "text/plain": [
       "complex"
      ]
     },
     "execution_count": 39,
     "metadata": {},
     "output_type": "execute_result"
    }
   ],
   "source": [
    "type(4+2j)"
   ]
  },
  {
   "cell_type": "markdown",
   "metadata": {},
   "source": [
    "Python también maneja valores de tipo **complex** o complejo, haciendo uso de la letra **j** para indicar la parte imaginaria."
   ]
  },
  {
   "cell_type": "code",
   "execution_count": 19,
   "metadata": {
    "collapsed": false
   },
   "outputs": [
    {
     "data": {
      "text/plain": [
       "str"
      ]
     },
     "execution_count": 19,
     "metadata": {},
     "output_type": "execute_result"
    }
   ],
   "source": [
    "type(\"Hola mundo!\")"
   ]
  },
  {
   "cell_type": "markdown",
   "metadata": {},
   "source": [
    "Asimismo, el valor **\"Hola mundo!\"** es un **string** (str) o cadena (por cadena de caracteres). Se especifica una cadena de caracteres al rodearla de comillas dobles (\") o comillas simples (')."
   ]
  },
  {
   "cell_type": "code",
   "execution_count": 34,
   "metadata": {
    "collapsed": false
   },
   "outputs": [
    {
     "data": {
      "text/plain": [
       "bool"
      ]
     },
     "execution_count": 34,
     "metadata": {},
     "output_type": "execute_result"
    }
   ],
   "source": [
    "type(True)"
   ]
  },
  {
   "cell_type": "markdown",
   "metadata": {},
   "source": [
    "Luego tenemos, tenemos valores **booleanos**, que representan uno de los dos valores de verdad utilizadas en el álgebra booleana."
   ]
  },
  {
   "cell_type": "code",
   "execution_count": 35,
   "metadata": {
    "collapsed": false
   },
   "outputs": [
    {
     "data": {
      "text/plain": [
       "NoneType"
      ]
     },
     "execution_count": 35,
     "metadata": {},
     "output_type": "execute_result"
    }
   ],
   "source": [
    "type(None)"
   ]
  },
  {
   "cell_type": "markdown",
   "metadata": {},
   "source": [
    "Finalmente tenemos la palabra clave **None** que indica la ausencia de algo."
   ]
  },
  {
   "cell_type": "markdown",
   "metadata": {},
   "source": [
    "### b) Variables y palabras clave\n",
    "A diferencia de los lenguajes declarativos, como las ecuaciones matemáticas, en los lenguajes imperativos las variables no describen valores desconocidos por hallar, sino espacios en la memoria de la computadora donde se puede almacenar algo para su posterior uso (un número, texto, una lista, etc.).\n",
    "\n",
    "Por este motivo, en programación hablamos de **asignar** valores a las variables. La **asignación** en Python se lleva a cabo con un signo de igual (**=**), lo cual más de una vez ha ocasionado confusión a las personas que aprenden a programar por primera vez.\n",
    "\n",
    "Las variables pueden tener cualquier nombre siempre que se cumpla con algunas reglas:\n",
    "- Deben constar únicamente de letras (mayúsculas y/o minúsculas), números y el caracter de guión bajo.\n",
    "- El primer caracter del nombre debe ser una letra o un guión bajo.\n",
    "- No sean iguales a las **palabras clave** o **reservadas** de Python.\n",
    "\n",
    "Por ejemplo:"
   ]
  },
  {
   "cell_type": "code",
   "execution_count": 22,
   "metadata": {
    "collapsed": true
   },
   "outputs": [],
   "source": [
    "x = 3\n",
    "capital_del_Peru = \"Lima\""
   ]
  },
  {
   "cell_type": "markdown",
   "metadata": {},
   "source": [
    "Mientras que lo siguiente no es válido:"
   ]
  },
  {
   "cell_type": "code",
   "execution_count": 23,
   "metadata": {
    "collapsed": false
   },
   "outputs": [
    {
     "ename": "SyntaxError",
     "evalue": "invalid syntax (<ipython-input-23-f15df243c23b>, line 1)",
     "output_type": "error",
     "traceback": [
      "\u001b[0;36m  File \u001b[0;32m\"<ipython-input-23-f15df243c23b>\"\u001b[0;36m, line \u001b[0;32m1\u001b[0m\n\u001b[0;31m    42kLima = \"Maratón\"\u001b[0m\n\u001b[0m          ^\u001b[0m\n\u001b[0;31mSyntaxError\u001b[0m\u001b[0;31m:\u001b[0m invalid syntax\n"
     ]
    }
   ],
   "source": [
    "42kLima = \"Maratón\""
   ]
  },
  {
   "cell_type": "code",
   "execution_count": 25,
   "metadata": {
    "collapsed": false
   },
   "outputs": [
    {
     "ename": "SyntaxError",
     "evalue": "invalid syntax (<ipython-input-25-46b59c83c100>, line 1)",
     "output_type": "error",
     "traceback": [
      "\u001b[0;36m  File \u001b[0;32m\"<ipython-input-25-46b59c83c100>\"\u001b[0;36m, line \u001b[0;32m1\u001b[0m\n\u001b[0;31m    valor_$ = 3.5\u001b[0m\n\u001b[0m          ^\u001b[0m\n\u001b[0;31mSyntaxError\u001b[0m\u001b[0;31m:\u001b[0m invalid syntax\n"
     ]
    }
   ],
   "source": [
    "valor_$ = 3.5"
   ]
  },
  {
   "cell_type": "markdown",
   "metadata": {},
   "source": [
    "Adicionalmente Python cuenta con un conjunto de palabras, llamadas **palabras clave** o **reservadas** que tienen un significado especial dentro del lenguaje, las cuales no pueden ser utilizadas como nombre de variables:\n",
    "\n",
    "<pre>False      class      finally    is         return\n",
    "None       continue   for        lambda     try\n",
    "True       def        from       nonlocal   while\n",
    "and        del        global     not        with\n",
    "as         elif       if         or         yield\n",
    "assert     else       import     pass\n",
    "break      except     in         raise</pre>"
   ]
  },
  {
   "cell_type": "markdown",
   "metadata": {},
   "source": [
    "Luego de ejecutar las instrucciónes válidas anteriores, la variable **x** ahora *contiene* el valor 3, como podemos ver en la expresión a continuación:"
   ]
  },
  {
   "cell_type": "code",
   "execution_count": 26,
   "metadata": {
    "collapsed": false
   },
   "outputs": [
    {
     "data": {
      "text/plain": [
       "3"
      ]
     },
     "execution_count": 26,
     "metadata": {},
     "output_type": "execute_result"
    }
   ],
   "source": [
    "x"
   ]
  },
  {
   "cell_type": "markdown",
   "metadata": {},
   "source": [
    "Una vez asignada una variable, puede ser utilizada en otras expresiones o sentencias, en las cuales el comportamiento de la variable será el mismo del valor que contiene."
   ]
  },
  {
   "cell_type": "code",
   "execution_count": 24,
   "metadata": {
    "collapsed": false
   },
   "outputs": [
    {
     "data": {
      "text/plain": [
       "7"
      ]
     },
     "execution_count": 24,
     "metadata": {},
     "output_type": "execute_result"
    }
   ],
   "source": [
    "#3 + 4\n",
    "x + 4"
   ]
  },
  {
   "cell_type": "markdown",
   "metadata": {},
   "source": [
    "### c) Contenedores\n",
    "\n",
    "Los contenedores son estructuras que contienen referencias a múltiples variables o contenedores. En Python se manejan principalmente 3 tipos de contenedores:\n",
    "\n",
    "- Listas\n",
    "- Tuplas\n",
    "- Sets o Conjuntos\n",
    "- Diccionarios"
   ]
  },
  {
   "cell_type": "markdown",
   "metadata": {},
   "source": [
    "#### Listas"
   ]
  },
  {
   "cell_type": "markdown",
   "metadata": {},
   "source": [
    "#### Tuplas"
   ]
  },
  {
   "cell_type": "markdown",
   "metadata": {},
   "source": [
    "#### Sets o Conjuntos"
   ]
  },
  {
   "cell_type": "markdown",
   "metadata": {},
   "source": [
    "#### Diccionarios"
   ]
  },
  {
   "cell_type": "markdown",
   "metadata": {},
   "source": [
    "### d) Operadores\n",
    "\n",
    "Python cuenta con [operadores](https://www.tutorialspoint.com//python/python_basic_operators.htm) predefinidos de diferentes tipos (algunos de los cuales ya vimos en celdas anteriores).\n",
    "\n",
    "- Operadores aritméticos (+, -, \\*, /, etc.)\n",
    "- Operadores relacionales (de comparación): (==, !=, >, <, etc.)\n",
    "- Operadores lógicos: (or, and, not)\n",
    "- Operadores de pertenencia: (in, not in)\n",
    "- Operadores de identidad: (is, is not)\n",
    "- Operadores de asignación: (=, +=, -=, \\*=, /=, etc.)\n",
    "- Operadores a nivel de bits: (&, |, ^, ~, >>, etc.)"
   ]
  },
  {
   "cell_type": "markdown",
   "metadata": {},
   "source": [
    "## Sentencias y Expresiones\n",
    "\n",
    "Las **sentencias** son las instrucciones, que el intérprete puede ejecutar.\n",
    "\n",
    "Un tipo especial de sentencia son las **expresiones**. Las expresiones comprenden únicamente **valores**, **identificadores** (por ejemplo **variables**) y **operadores**<sup>(\\*)</sup>, y su evaluación por parte del intérprete da un resultado.\n",
    "\n",
    "<sub>(\\*): Aquí se incluyen las funciones.</sub>\n",
    "\n",
    "La operación de asignación es un ejemplo de sentencia:"
   ]
  },
  {
   "cell_type": "code",
   "execution_count": 28,
   "metadata": {
    "collapsed": false
   },
   "outputs": [],
   "source": [
    "a = 10\n",
    "b = 5"
   ]
  },
  {
   "cell_type": "markdown",
   "metadata": {},
   "source": [
    "Los siguientes son ejemplos de expresiones (Jupyter Notebook nos devuelve el resultado de la última expresión en una celda, por lo que si queremos inspeccionar el resultado de alguna, debemos asegurarnos de que no hayan más sentencias debajo de la misma en una celda)"
   ]
  },
  {
   "cell_type": "code",
   "execution_count": 33,
   "metadata": {
    "collapsed": false
   },
   "outputs": [
    {
     "data": {
      "text/plain": [
       "120"
      ]
     },
     "execution_count": 33,
     "metadata": {},
     "output_type": "execute_result"
    }
   ],
   "source": [
    "a * b + 7"
   ]
  },
  {
   "cell_type": "code",
   "execution_count": 32,
   "metadata": {
    "collapsed": false
   },
   "outputs": [
    {
     "data": {
      "text/plain": [
       "False"
      ]
     },
     "execution_count": 32,
     "metadata": {},
     "output_type": "execute_result"
    }
   ],
   "source": [
    "10 == 5"
   ]
  },
  {
   "cell_type": "markdown",
   "metadata": {},
   "source": [
    "# Estructuras de control\n",
    "\n",
    "El verdadero poder de los lenguajes de programación imperativo se encuentra en la posibilidad de utilizar las llamadas **estructuras de control**, lo que nos permite escribir programas más complejos y más útiles de los que podríamos crear sin ellas.\n",
    "\n",
    "![Estructuras de Control](./Imagenes/Estructuras de Control.png)"
   ]
  },
  {
   "cell_type": "markdown",
   "metadata": {},
   "source": [
    "## If-Then-Else"
   ]
  },
  {
   "cell_type": "markdown",
   "metadata": {},
   "source": [
    "## While"
   ]
  },
  {
   "cell_type": "markdown",
   "metadata": {},
   "source": [
    "## For"
   ]
  },
  {
   "cell_type": "markdown",
   "metadata": {},
   "source": [
    "# Funciones"
   ]
  },
  {
   "cell_type": "markdown",
   "metadata": {},
   "source": [
    "# Objetos"
   ]
  },
  {
   "cell_type": "code",
   "execution_count": null,
   "metadata": {
    "collapsed": true
   },
   "outputs": [],
   "source": []
  }
 ],
 "metadata": {
  "kernelspec": {
   "display_name": "Python 3",
   "language": "python",
   "name": "python3"
  },
  "language_info": {
   "codemirror_mode": {
    "name": "ipython",
    "version": 3
   },
   "file_extension": ".py",
   "mimetype": "text/x-python",
   "name": "python",
   "nbconvert_exporter": "python",
   "pygments_lexer": "ipython3",
   "version": "3.5.2"
  }
 },
 "nbformat": 4,
 "nbformat_minor": 0
}
