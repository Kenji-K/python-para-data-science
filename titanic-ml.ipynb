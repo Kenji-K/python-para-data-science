{
 "cells": [
  {
   "cell_type": "code",
   "execution_count": 1,
   "metadata": {
    "collapsed": false,
    "scrolled": true
   },
   "outputs": [],
   "source": [
    "import numpy as np\n",
    "import pandas as pd\n",
    "from sklearn.ensemble import RandomForestClassifier\n",
    "from sklearn.ensemble import GradientBoostingClassifier\n",
    "from sklearn.ensemble import AdaBoostClassifier\n",
    "from sklearn.linear_model import LogisticRegression\n",
    "from sklearn.tree import DecisionTreeClassifier\n",
    "from sklearn.ensemble import VotingClassifier\n",
    "from sklearn.svm import SVC\n",
    "from sklearn import metrics\n",
    "from sklearn import cross_validation\n",
    "from sklearn import preprocessing\n",
    "from sklearn.preprocessing import StandardScaler\n",
    "\n",
    "train = pd.read_csv('data/train.csv', header=0)\n",
    "test = pd.read_csv('data/test.csv', header=0);\n",
    "\n",
    "target_var = \"Survived\"\n",
    "predictors = [\"Pclass\", \"Sex\", \"Parch\", \"Fare\", \"HasSons\", \"Embarked\", \"HasSiblings\", \"Age\", \"Title\", \"IsChild\"] #, \"SibSp\""
   ]
  },
  {
   "cell_type": "code",
   "execution_count": 2,
   "metadata": {
    "collapsed": false
   },
   "outputs": [],
   "source": [
    "import re\n",
    "\n",
    "# A function to get the title from a name.\n",
    "def parse_title(name):\n",
    "    # Use a regular expression to search for a title.  Titles always consist of capital and \n",
    "    #lowercase letters, and end with a period.\n",
    "    title_search = re.search(' ([A-Za-z]+)\\.', name)\n",
    "    # If the title exists, extract and return it.\n",
    "    if title_search:\n",
    "        return title_search.group(1)\n",
    "    return \"\"\n",
    "\n",
    "def extract_titles(df):\n",
    "    # Get all the titles and print how often each one occurs.\n",
    "    titles = df[\"Name\"].apply(parse_title)\n",
    "    #print(pd.value_counts(titles))\n",
    "\n",
    "    # Map each title to an integer.  Some titles are very rare, and are compressed into the same codes as other titles.\n",
    "    title_mapping = {\"Mr\": 1, \"Miss\": 2, \"Mrs\": 3, \"Master\": 4, \"Dr\": 5, \"Rev\": 6, \"Major\": 7, \"Col\": 7, \\\n",
    "                     \"Mlle\": 8, \"Mme\": 8, \"Don\": 9, \"Dona\": 9, \"Lady\": 10, \"Countess\": 10, \"Jonkheer\": 10, \"Sir\": 9, \\\n",
    "                     \"Capt\": 7, \"Ms\": 2}\n",
    "    for k,v in title_mapping.items():\n",
    "        titles[titles == k] = v\n",
    "\n",
    "    # Verify that we converted everything.\n",
    "    #print(pd.value_counts(titles))\n",
    "\n",
    "    # Add in the title column.\n",
    "    df[\"Title\"] = titles\n",
    "\n",
    "def get_deck(cabin):\n",
    "    try:\n",
    "        return cabin[0]\n",
    "    except:\n",
    "        return \"Not Reported\"\n",
    "    \n",
    "def preprocess(df):\n",
    "    df[\"Embarked\"].fillna(\"S\", inplace=True)\n",
    "    \n",
    "    extract_titles(df)\n",
    "    \n",
    "    mean_imputer = preprocessing.Imputer(strategy=\"mean\")\n",
    "    df[[\"Age\", \"Fare\"]] = mean_imputer.fit_transform(df[[\"Age\", \"Fare\"]])\n",
    "    mode_imputer = preprocessing.Imputer(strategy=\"most_frequent\")\n",
    "    df[[\"Parch\", \"SibSp\"]] = mode_imputer.fit_transform(df[[\"Parch\", \"SibSp\"]])\n",
    "    \n",
    "    df[\"HasSons\"] = 0\n",
    "    df.loc[(df[\"Parch\"] > 0) & (df[\"Age\"] < 18), \"HasSons\"] = 1\n",
    "    df[\"HasSiblings\"] = 0\n",
    "    df.loc[df[\"SibSp\"] > 0, \"HasSiblings\"] = 1\n",
    "    df[\"IsChild\"] = 0\n",
    "    df.loc[df[\"Age\"] < 14, \"IsChild\"] = 1\n",
    "    \n",
    "    df[\"Deck\"] = df[\"Cabin\"].apply(get_deck)\n",
    "    \n",
    "    categorical_predictors = [\"Sex\", \"Embarked\", \"Deck\"]\n",
    "    for cat_pred in categorical_predictors:\n",
    "        encoder = preprocessing.LabelEncoder()\n",
    "        df[cat_pred] = encoder.fit_transform(df[cat_pred])\n",
    "    \n",
    "    df = pd.concat([df, pd.get_dummies(df[\"Title\"], prefix=\"Title\")], axis=1)\n",
    "    return df\n",
    "    \n",
    "train = preprocess(train)\n",
    "test = preprocess(test)"
   ]
  },
  {
   "cell_type": "code",
   "execution_count": 3,
   "metadata": {
    "collapsed": false
   },
   "outputs": [
    {
     "data": {
      "image/png": "[encoded data removed]",
      "text/plain": [
       "<matplotlib.figure.Figure at 0x19cf857a668>"
      ]
     },
     "metadata": {},
     "output_type": "display_data"
    },
    {
     "name": "stdout",
     "output_type": "stream",
     "text": [
      "0.820426487093\n"
     ]
    }
   ],
   "source": [
    "%matplotlib inline\n",
    "import numpy as np\n",
    "import matplotlib.pyplot as plt\n",
    "from sklearn.feature_selection import SelectKBest, f_classif\n",
    "\n",
    "predictors = [\"Pclass\", \"Sex\", \"Parch\", \"Fare\", \"HasSons\", \"Embarked\", \"HasSiblings\", \"Age\", \"Title\", \"SibSp\", \"IsChild\", \"Deck\"]\n",
    "\n",
    "# Perform feature selection\n",
    "selector = SelectKBest(f_classif, k=5)\n",
    "selector.fit(train[predictors], train[\"Survived\"])\n",
    "\n",
    "# Get the raw p-values for each feature, and transform from p-values into scores\n",
    "scores = -np.log10(selector.pvalues_)\n",
    "\n",
    "# Plot the scores.  See how \"Pclass\", \"Sex\", \"Title\", and \"Fare\" are the best?\n",
    "plt.bar(range(len(predictors)), scores)\n",
    "plt.xticks(range(len(predictors)), predictors, rotation='vertical')\n",
    "plt.show()\n",
    "\n",
    "# Pick only the four best features.\n",
    "predictors = [\"Pclass\", \"Sex\", \"Fare\", \"Title\", \"Embarked\", \"IsChild\", \"HasSiblings\"]\n",
    "\n",
    "alg = RandomForestClassifier(random_state=1, n_estimators=150, min_samples_split=8, min_samples_leaf=4)\n",
    "\n",
    "scores = cross_validation.cross_val_score(alg, train[predictors], train[\"Survived\"])\n",
    "print(scores.mean())"
   ]
  },
  {
   "cell_type": "code",
   "execution_count": 7,
   "metadata": {
    "collapsed": false
   },
   "outputs": [
    {
     "name": "stdout",
     "output_type": "stream",
     "text": [
      "Accuracy: 0.79 (+/- 0.00) [Logistic Regression]\n",
      "Accuracy: 0.82 (+/- 0.02) [Gradient Boosting Classifier]\n",
      "Accuracy: 0.79 (+/- 0.02) [AdaBoost Classifier]\n",
      "Accuracy: 0.82 (+/- 0.02) [RandomForest]\n",
      "Accuracy: 0.80 (+/- 0.02) [Gaussian Support Vector Machine]\n",
      "0.824626865672\n"
     ]
    }
   ],
   "source": [
    "predictors = [\"Pclass\", \"Sex\", \"Fare\", \"HasSons\", \"Embarked\", \"HasSiblings\", \"Title\", \"IsChild\", \"Deck\"] #, \"SibSp\", \"Age\", \"Parch\", \"HasManyChildren\n",
    "\n",
    "#scaler = StandardScaler()\n",
    "#train[predictors] = scaler.fit_transform(train[predictors])\n",
    "epsilon = 0.00001\n",
    "train[predictors] = (train[predictors] - train[predictors].mean()) / (train[predictors].std() * 2 + epsilon)\n",
    "\n",
    "algorithms = [\n",
    "    ['lr', LogisticRegression(), predictors],\n",
    "    ['gbc', GradientBoostingClassifier(n_estimators=25, max_depth=3), predictors],\n",
    "    ['abc', AdaBoostClassifier(DecisionTreeClassifier(max_depth=1), n_estimators=25, algorithm=\"SAMME.R\", learning_rate=1.3), predictors],\n",
    "    ['rfc', RandomForestClassifier(n_estimators=150, min_samples_split=8, min_samples_leaf=4), predictors + [\"Parch\", \"SibSp\", \"Age\"]],\n",
    "    ['svc gaussian', SVC(kernel=\"rbf\", C=100, gamma=0.05, probability=False),\\\n",
    "         ['Pclass', 'Sex', 'Fare', 'HasSons', 'Embarked', \\\n",
    "          'HasSiblings', 'IsChild', 'Title_1', 'Title_2', \\\n",
    "          'Title_3', 'Title_4', 'Title_5', 'Title_6', 'Title_7', \\\n",
    "          'Title_8', 'Title_9', 'Title_10', \"Parch\", \"SibSp\", \"Age\"]]\n",
    "]\n",
    "\n",
    "X_trainG, X_testG, Y_trainG, Y_testG = cross_validation.train_test_split(train[predictors], train[target_var], test_size = 0.30)\n",
    "\n",
    "predictions = []\n",
    "\n",
    "models = [(x[0], x[1]) for x in algorithms]\n",
    "voting_classifier = VotingClassifier(models, voting=\"hard\")\n",
    "all_models = [x[1] for x in algorithms] + [voting_classifier]\n",
    "\n",
    "for clf, label in zip(all_models, \n",
    "                      ['Logistic Regression', \n",
    "                       'Gradient Boosting Classifier', \n",
    "                       'AdaBoost Classifier', \n",
    "                       'RandomForest', \n",
    "                       'Gaussian Support Vector Machine']):\n",
    "    scores = cross_validation.cross_val_score(clf, X_trainG, Y_trainG, cv=3, scoring='accuracy')\n",
    "    print(\"Accuracy: %0.2f (+/- %0.2f) [%s]\" % (scores.mean(), scores.std(), label))\n",
    "\n",
    "voting_classifier.fit(X_trainG, Y_trainG)\n",
    "predictions = voting_classifier.predict(X_testG)\n",
    "print (metrics.accuracy_score(Y_testG, predictions))"
   ]
  },
  {
   "cell_type": "code",
   "execution_count": 8,
   "metadata": {
    "collapsed": false
   },
   "outputs": [],
   "source": [
    "test[predictors] = (test[predictors] - test[predictors].mean()) / (test[predictors].std() * 2 + epsilon)\n",
    "\n",
    "voting_classifier.fit(train[predictors], train[target_var])\n",
    "predictions = voting_classifier.predict(test[predictors].astype(float))\n",
    "predictionsdf = pd.DataFrame(data = predictions, \\\n",
    "                             index = test[\"PassengerId\"],\\\n",
    "                             columns = [\"Survived\"])\n",
    "predictionsdf.to_csv(\"data/predictions.csv\")"
   ]
  },
  {
   "cell_type": "code",
   "execution_count": null,
   "metadata": {
    "collapsed": true
   },
   "outputs": [],
   "source": []
  }
 ],
 "metadata": {
  "anaconda-cloud": {},
  "kernelspec": {
   "display_name": "Python [default]",
   "language": "python",
   "name": "python3"
  },
  "language_info": {
   "codemirror_mode": {
    "name": "ipython",
    "version": 3
   },
   "file_extension": ".py",
   "mimetype": "text/x-python",
   "name": "python",
   "nbconvert_exporter": "python",
   "pygments_lexer": "ipython3",
   "version": "3.5.2"
  }
 },
 "nbformat": 4,
 "nbformat_minor": 0
}
